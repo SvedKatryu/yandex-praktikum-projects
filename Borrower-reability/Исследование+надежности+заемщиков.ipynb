{
 "cells": [
  {
   "cell_type": "markdown",
   "metadata": {},
   "source": [
    "## Исследование надёжности заёмщиков\n",
    "\n",
    "Заказчик — кредитный отдел банка. Нужно разобраться, влияет ли семейное положение и количество детей клиента на факт погашения кредита в срок. Входные данные от банка — статистика о платёжеспособности клиентов.\n",
    "\n",
    "Результаты исследования будут учтены при построении модели **кредитного скоринга** — специальной системы, которая оценивает способность потенциального заёмщика вернуть кредит банку."
   ]
  },
  {
   "cell_type": "markdown",
   "metadata": {},
   "source": [
    "### Шаг 1. Откройте файл с данными и изучите общую информацию. "
   ]
  },
  {
   "cell_type": "code",
   "execution_count": 1,
   "metadata": {},
   "outputs": [
    {
     "name": "stdout",
     "output_type": "stream",
     "text": [
      "<class 'pandas.core.frame.DataFrame'>\n",
      "RangeIndex: 21525 entries, 0 to 21524\n",
      "Data columns (total 12 columns):\n",
      "children            21525 non-null int64\n",
      "days_employed       19351 non-null float64\n",
      "dob_years           21525 non-null int64\n",
      "education           21525 non-null object\n",
      "education_id        21525 non-null int64\n",
      "family_status       21525 non-null object\n",
      "family_status_id    21525 non-null int64\n",
      "gender              21525 non-null object\n",
      "income_type         21525 non-null object\n",
      "debt                21525 non-null int64\n",
      "total_income        19351 non-null float64\n",
      "purpose             21525 non-null object\n",
      "dtypes: float64(2), int64(5), object(5)\n",
      "memory usage: 2.0+ MB\n"
     ]
    }
   ],
   "source": [
    "import pandas as pd\n",
    "data = pd.read_csv('/datasets/data.csv')\n",
    "data.head(20)\n",
    "data.tail(20)\n",
    "data.info()"
   ]
  },
  {
   "cell_type": "markdown",
   "metadata": {},
   "source": [
    "### Вывод"
   ]
  },
  {
   "cell_type": "markdown",
   "metadata": {},
   "source": [
    "Применила *head(20)*,*tail(20)*:\n",
    "\n",
    "**days_employed** отрицательные значения и NaN;\n",
    "\n",
    "**education** используется разный регистр;\n",
    "\n",
    "**total_income** есть NaN;\n",
    "\n",
    "**purpose** многие строки повторяются, т.е. одни и те же цели описаны разными словами.\n",
    "\n",
    "Использую *.info()*:\n",
    "\n",
    "в таблице 21525 строк и 12 столбцов;\n",
    "\n",
    "названия столбцов указаны корректно,без ошибок, пробелов, в одном регистре и отображают указанную в них информацию."
   ]
  },
  {
   "cell_type": "markdown",
   "metadata": {},
   "source": [
    "### Шаг 2. Предобработка данных"
   ]
  },
  {
   "cell_type": "markdown",
   "metadata": {},
   "source": [
    "### Обработка пропусков"
   ]
  },
  {
   "cell_type": "code",
   "execution_count": 2,
   "metadata": {},
   "outputs": [
    {
     "name": "stdout",
     "output_type": "stream",
     "text": [
      "сотрудник 142594.39684740017\n",
      "пенсионер 118514.48641164352\n",
      "компаньон 172357.95096577113\n",
      "госслужащий 150447.9352830068\n",
      "безработный 131339.7516762103\n",
      "предприниматель 499163.1449470857\n",
      "студент 98201.62531401133\n",
      "в декрете 53829.13072905995\n"
     ]
    },
    {
     "data": {
      "text/plain": [
       "children            0\n",
       "dob_years           0\n",
       "education           0\n",
       "education_id        0\n",
       "family_status       0\n",
       "family_status_id    0\n",
       "gender              0\n",
       "income_type         0\n",
       "debt                0\n",
       "total_income        0\n",
       "purpose             0\n",
       "dtype: int64"
      ]
     },
     "execution_count": 2,
     "metadata": {},
     "output_type": "execute_result"
    }
   ],
   "source": [
    "data['children'].value_counts(normalize=True)\n",
    "#поменяла отрицательные значения на положительные\n",
    "data['children'] = data['children'].apply(abs)\n",
    "\n",
    "#заменила строки, в которых количество детей равно 20 на медианные значения\n",
    "data.loc[data['children'] > 19,'children'] = data['children'].median()\n",
    "\n",
    "#поменяла неопределенный пол на женский\n",
    "data.loc[data['gender'] == 'XNA', 'gender'] = 'F'\n",
    "#удалила столбец\n",
    "data.drop(['days_employed'], axis='columns', inplace=True)\n",
    "\n",
    "#заменила пропуски на медианные значения\n",
    "# data.loc[data['total_income'].isna(), 'total_income'] = data['total_income'].median()     \n",
    "data.isna().sum()\n",
    "#заменила пропуски на медианные значения с группировкой по роду деятельности\n",
    "for income_type in data['income_type'].unique():\n",
    "    median = data.loc[data['income_type'] == income_type, 'total_income'].median()\n",
    "    print(income_type, median)\n",
    "    data.loc[(data['total_income'].isna())&(data['income_type'] == income_type), 'total_income'] = median\n",
    "data.isna().sum()"
   ]
  },
  {
   "cell_type": "markdown",
   "metadata": {},
   "source": [
    "### Вывод"
   ]
  },
  {
   "cell_type": "markdown",
   "metadata": {},
   "source": [
    "Просмотрев столбцы поочередно с помощью *.value_counts(normalize=True)* сделала следующее:\n",
    "\n",
    "В столбце **children** используем модуль и поменяем отрицательные значения на положительные.Также в этом столбце есть строки с кол-м детей 20(думаю это опечатки),заменим медианными значениями, используя *.loc*.\n",
    "\n",
    "Меняем в столбце **gender** одно значение 'XNA' на 'F'.\n",
    "\n",
    "Cтолбец **days_employed** информации нам никакой не дает, в нем есть отрицательные и пропущенные значения, удаляю его методом *.drop()*.\n",
    "\n",
    "В столбце **dob_years** есть возраст 0, но таких доля таких строк всего 0.004692 от всех строк, считаю что на анализ это никак не повлияет."
   ]
  },
  {
   "cell_type": "markdown",
   "metadata": {},
   "source": [
    "Посчитала в каждом столбце пропущенные значения с помощью методов **.isna()** и **.sum()**.\n",
    "Получила, что в столбце **total_income** 2174 пропуска.Это пропуски NaN, которые возникли случайным образом. Необходимо выполнить замену пропущенных значений. Заменила пропущенные значения с помощью метода *.loc*, на медианные, вычисленные с помощью метода *.median()*.Как я поняла,медианные значения самые универсальные,т.е. в большинстве случаев именно медианные данные будут приближены по максимуму к пропущенным. Выполнила проверку замены пропусков с помощью методов **.isna()** и **.sum()**. Пропусков 0, значит пропущенных данных больше нет.\n",
    "\n",
    "<font color='purple'>Заменила пропущенные значения в столбце **total_income** на медианные, сгруппированные по роду деятельности, используя метод *.loc* c группировкой по одной переменной.</font>\n",
    "\n",
    "    "
   ]
  },
  {
   "cell_type": "markdown",
   "metadata": {},
   "source": [
    "### Замена типа данных"
   ]
  },
  {
   "cell_type": "code",
   "execution_count": 3,
   "metadata": {
    "scrolled": true
   },
   "outputs": [
    {
     "data": {
      "text/plain": [
       "children             int64\n",
       "dob_years            int64\n",
       "education           object\n",
       "education_id         int64\n",
       "family_status       object\n",
       "family_status_id     int64\n",
       "gender              object\n",
       "income_type         object\n",
       "debt                 int64\n",
       "total_income         int64\n",
       "purpose             object\n",
       "dtype: object"
      ]
     },
     "execution_count": 3,
     "metadata": {},
     "output_type": "execute_result"
    }
   ],
   "source": [
    "data.dtypes\n",
    "data['total_income'] = data['total_income'].astype('int')\n",
    "data['children'] = data['children'].astype('int')\n",
    "data.dtypes"
   ]
  },
  {
   "cell_type": "markdown",
   "metadata": {},
   "source": [
    "### Вывод"
   ]
  },
  {
   "cell_type": "markdown",
   "metadata": {},
   "source": [
    "Вывела на экран типы данных каждого столбца.Использовала *.dtypes*.\n",
    "\n",
    "Изменила в столбце **total_income** тип с object на int64. Т.к. это доход и выполнять различные действия с ним лучше будет если тип будет целый.\n",
    "\n",
    "Также столбец **children** после замены пропусков стал float. Изменю на int с помощью **.astype**."
   ]
  },
  {
   "cell_type": "markdown",
   "metadata": {},
   "source": [
    "### Обработка дубликатов"
   ]
  },
  {
   "cell_type": "code",
   "execution_count": 4,
   "metadata": {},
   "outputs": [
    {
     "data": {
      "text/plain": [
       "(21454, 11)"
      ]
     },
     "execution_count": 4,
     "metadata": {},
     "output_type": "execute_result"
    }
   ],
   "source": [
    "data['education'].value_counts()\n",
    "data['education'] = data['education'].str.lower()\n",
    "data['education'].value_counts()\n",
    "\n",
    "data.shape\n",
    "data = data.drop_duplicates()\n",
    "data.shape"
   ]
  },
  {
   "cell_type": "markdown",
   "metadata": {},
   "source": [
    "### Вывод"
   ]
  },
  {
   "cell_type": "markdown",
   "metadata": {},
   "source": [
    "Использовав *.value_counts()* в столбце **education** обнаружила дубликаты-уникальные строки с различным регистром. Думаю они появились при копировании информации из разных файлов. \n",
    "\n",
    "Исправила регистр на нижний, использовав *.str.lower()*\n",
    "\n",
    "<font color='purple'>Удалила дубликаты с помощью метода *.drop_duplicates()*. Было строк 21525. Стало 21454.</font>\n"
   ]
  },
  {
   "cell_type": "markdown",
   "metadata": {},
   "source": [
    "<b>UPD <font color=green>Разобрались ✔👍"
   ]
  },
  {
   "cell_type": "markdown",
   "metadata": {},
   "source": [
    "### Лемматизация"
   ]
  },
  {
   "cell_type": "code",
   "execution_count": 5,
   "metadata": {},
   "outputs": [
    {
     "name": "stdout",
     "output_type": "stream",
     "text": [
      "покупка жилья приобретение автомобиля дополнительное образование сыграть свадьбу операции с жильем образование на проведение свадьбы покупка жилья для семьи покупка недвижимости покупка коммерческой недвижимости покупка жилой недвижимости строительство собственной недвижимости недвижимость строительство недвижимости на покупку подержанного автомобиля на покупку своего автомобиля операции с коммерческой недвижимостью строительство жилой недвижимости жилье операции со своей недвижимостью автомобили заняться образованием сделка с подержанным автомобилем получение образования автомобиль свадьба получение дополнительного образования покупка своего жилья операции с недвижимостью получение высшего образования свой автомобиль сделка с автомобилем профильное образование высшее образование покупка жилья для сдачи на покупку автомобиля ремонт жилью заняться высшим образованием\n",
      "Counter({' ': 96, 'покупка': 10, 'недвижимость': 10, 'автомобиль': 9, 'образование': 9, 'жилье': 7, 'с': 5, 'операция': 4, 'на': 4, 'свой': 4, 'свадьба': 3, 'строительство': 3, 'получение': 3, 'высокий': 3, 'дополнительный': 2, 'для': 2, 'коммерческий': 2, 'жилой': 2, 'подержать': 2, 'заниматься': 2, 'сделка': 2, 'приобретение': 1, 'сыграть': 1, 'проведение': 1, 'семья': 1, 'собственный': 1, 'со': 1, 'профильный': 1, 'сдача': 1, 'ремонт': 1, '\\n': 1})\n"
     ]
    }
   ],
   "source": [
    "#Загружаем библиотеку\n",
    "from pymystem3 import Mystem\n",
    "m = Mystem()\n",
    "# Выделяем уникальные значения целей\n",
    "uniq_purpose = data['purpose'].unique()\n",
    "# Преобразуем список в строку\n",
    "uniq_purpose = ' '.join(uniq_purpose)\n",
    "print(uniq_purpose)\n",
    "# Лемматизируем уникальные значения целей\n",
    "lemmas_purpose = m.lemmatize(uniq_purpose)\n",
    "# Находим количество лемм уникальных значений целей\n",
    "from collections import Counter\n",
    "print(Counter(lemmas_purpose))\n",
    "\n"
   ]
  },
  {
   "cell_type": "markdown",
   "metadata": {},
   "source": [
    "### Вывод"
   ]
  },
  {
   "cell_type": "markdown",
   "metadata": {},
   "source": [
    "Провела лемматизацию для столбца **purpose**. На основе выделенных лемм буду делать далее категоризацию данных."
   ]
  },
  {
   "cell_type": "markdown",
   "metadata": {},
   "source": [
    "### Категоризация данных"
   ]
  },
  {
   "cell_type": "code",
   "execution_count": 6,
   "metadata": {},
   "outputs": [
    {
     "name": "stdout",
     "output_type": "stream",
     "text": [
      "0                             [покупка,  , жилье, \\n]\n",
      "1                   [приобретение,  , автомобиль, \\n]\n",
      "2                             [покупка,  , жилье, \\n]\n",
      "3                [дополнительный,  , образование, \\n]\n",
      "4                           [сыграть,  , свадьба, \\n]\n",
      "                             ...                     \n",
      "21520                  [операция,  , с,  , жилье, \\n]\n",
      "21521               [сделка,  , с,  , автомобиль, \\n]\n",
      "21522                              [недвижимость, \\n]\n",
      "21523    [на,  , покупка,  , свой,  , автомобиль, \\n]\n",
      "21524             [на,  , покупка,  , автомобиль, \\n]\n",
      "Name: purpose_lemm, Length: 21454, dtype: object\n"
     ]
    },
    {
     "data": {
      "text/html": [
       "<div>\n",
       "<style scoped>\n",
       "    .dataframe tbody tr th:only-of-type {\n",
       "        vertical-align: middle;\n",
       "    }\n",
       "\n",
       "    .dataframe tbody tr th {\n",
       "        vertical-align: top;\n",
       "    }\n",
       "\n",
       "    .dataframe thead th {\n",
       "        text-align: right;\n",
       "    }\n",
       "</style>\n",
       "<table border=\"1\" class=\"dataframe\">\n",
       "  <thead>\n",
       "    <tr style=\"text-align: right;\">\n",
       "      <th></th>\n",
       "      <th>family_status</th>\n",
       "      <th>family_status_id</th>\n",
       "    </tr>\n",
       "  </thead>\n",
       "  <tbody>\n",
       "    <tr>\n",
       "      <td>0</td>\n",
       "      <td>женат / замужем</td>\n",
       "      <td>0</td>\n",
       "    </tr>\n",
       "    <tr>\n",
       "      <td>1</td>\n",
       "      <td>гражданский брак</td>\n",
       "      <td>1</td>\n",
       "    </tr>\n",
       "    <tr>\n",
       "      <td>2</td>\n",
       "      <td>вдовец / вдова</td>\n",
       "      <td>2</td>\n",
       "    </tr>\n",
       "    <tr>\n",
       "      <td>3</td>\n",
       "      <td>в разводе</td>\n",
       "      <td>3</td>\n",
       "    </tr>\n",
       "    <tr>\n",
       "      <td>4</td>\n",
       "      <td>Не женат / не замужем</td>\n",
       "      <td>4</td>\n",
       "    </tr>\n",
       "  </tbody>\n",
       "</table>\n",
       "</div>"
      ],
      "text/plain": [
       "           family_status  family_status_id\n",
       "0        женат / замужем                 0\n",
       "1       гражданский брак                 1\n",
       "2         вдовец / вдова                 2\n",
       "3              в разводе                 3\n",
       "4  Не женат / не замужем                 4"
      ]
     },
     "execution_count": 6,
     "metadata": {},
     "output_type": "execute_result"
    }
   ],
   "source": [
    "# Создаю список основных целей\n",
    "purpose_osn = ['недвижимость', 'автомобиль', 'образование', 'жилье', 'свадьба', 'ремонт']\n",
    "# Создаю лемматизированный столбец целей\n",
    "data['purpose_lemm'] = data['purpose'].apply(m.lemmatize)\n",
    "print(data['purpose_lemm'])\n",
    "#Функция для создания категорий значений целей\n",
    "def category(purpose_lemm):\n",
    "     if 'недвижимость' in purpose_lemm or 'жилье'in purpose_lemm:\n",
    "        return 'недвижимость'\n",
    "     if 'автомобиль' in purpose_lemm:\n",
    "        return 'автомобиль'    \n",
    "     if 'образование' in purpose_lemm:\n",
    "        return 'образование'\n",
    "     if 'свадьба' in purpose_lemm:\n",
    "        return  'свадьба'    \n",
    "     return 'ошибка'\n",
    "\n",
    "data['purpose_osn'] = data['purpose_lemm'].apply(category)\n",
    "data.head(10)\n",
    "\n",
    "#Выделяю \"словарь\" для семейного статуса\n",
    "family = data[['family_status', 'family_status_id']]\n",
    "#Удаляю дубликаты в словаре\n",
    "family_drop = family.drop_duplicates().reset_index(drop = True)\n",
    "family_drop\n"
   ]
  },
  {
   "cell_type": "markdown",
   "metadata": {},
   "source": [
    "### Вывод"
   ]
  },
  {
   "cell_type": "markdown",
   "metadata": {},
   "source": [
    "Сделала категоризацию данных столбца **purpose**. Теперь вместо этого столбца в котором многие строки повторяются, т.е. одни и те же цели описаны разными словами получили столбец **purpose_osn**. В котором у нас указано 4 категории целей.\n",
    "\n",
    "<font color='purple'>Выделила \"словарь\" для семейного статуса и удалила дубликаты.</font>"
   ]
  },
  {
   "cell_type": "markdown",
   "metadata": {},
   "source": [
    "### Шаг 3. Ответьте на вопросы"
   ]
  },
  {
   "cell_type": "markdown",
   "metadata": {},
   "source": [
    "- Есть ли зависимость между наличием детей и возвратом кредита в срок?"
   ]
  },
  {
   "cell_type": "code",
   "execution_count": null,
   "metadata": {},
   "outputs": [],
   "source": [
    "# Делаем сводную таблицу \n",
    "children_report = data.pivot_table(index = 'children', columns = 'debt', values = 'total_income', aggfunc = 'count').fillna(0)\n",
    "children_report.columns = ['no_debt', 'debt']\n",
    "children_report['%'] = children_report['debt'] / (children_report['debt'] + children_report['no_debt'])\n",
    "children_report.style.format({'%':'{:.2%}', 'no_debt':'{:.0f}'})  \n"
   ]
  },
  {
   "cell_type": "markdown",
   "metadata": {},
   "source": [
    "### Вывод"
   ]
  },
  {
   "cell_type": "markdown",
   "metadata": {},
   "source": [
    "Люди у которых нет детей возвращают кредит в срок чаще тех у которых дети есть. "
   ]
  },
  {
   "cell_type": "markdown",
   "metadata": {},
   "source": [
    "- Есть ли зависимость между семейным положением и возвратом кредита в срок?"
   ]
  },
  {
   "cell_type": "code",
   "execution_count": null,
   "metadata": {},
   "outputs": [],
   "source": [
    "family_status_report = data.pivot_table(index = 'family_status', columns = 'debt', values = 'total_income', aggfunc = 'count').fillna(0)\n",
    "family_status_report.columns = ['no_debt', 'debt']\n",
    "family_status_report['%'] = family_status_report['debt'] / (family_status_report['debt'] + family_status_report['no_debt'])\n",
    "family_status_report.style.format({'%':'{:.2%}', 'no_debt':'{:.0f}'})"
   ]
  },
  {
   "cell_type": "markdown",
   "metadata": {},
   "source": [
    "### Вывод"
   ]
  },
  {
   "cell_type": "markdown",
   "metadata": {},
   "source": [
    "<font color='purple'>Люди в разводе, а также вдовцы/вдовы возвращают кредит в срок чаще других категорий граждан.</font>"
   ]
  },
  {
   "cell_type": "markdown",
   "metadata": {},
   "source": [
    "- Есть ли зависимость между уровнем дохода и возвратом кредита в срок?"
   ]
  },
  {
   "cell_type": "code",
   "execution_count": null,
   "metadata": {},
   "outputs": [],
   "source": [
    "# Использую метод .qcut для создания групп дохода\n",
    "data['income_groups'] = pd.qcut(data['total_income'], q=5, \n",
    "                        labels=['доход_1', \n",
    "                                'доход_2', \n",
    "                                'доход_3',  \n",
    "                                'доход_4', \n",
    "                                'доход_5']) \n",
    "\n",
    "total_income_report = data.pivot_table(index = 'income_groups', columns = 'debt', values = 'total_income', aggfunc = 'count').fillna(0)\n",
    "total_income_report.columns = ['no_debt', 'debt']\n",
    "total_income_report['%'] = total_income_report['debt'] / (total_income_report['debt'] + total_income_report['no_debt'])\n",
    "total_income_report.style.format({'%':'{:.2%}', 'no_debt':'{:.0f}'})\n",
    "#data['income_groups'].value_counts()\n",
    "\n"
   ]
  },
  {
   "cell_type": "markdown",
   "metadata": {},
   "source": [
    "### Вывод"
   ]
  },
  {
   "cell_type": "markdown",
   "metadata": {},
   "source": [
    "Верхняя и нижняя группа отдают кредиты чуть лучше средних "
   ]
  },
  {
   "cell_type": "markdown",
   "metadata": {},
   "source": [
    "- Как разные цели кредита влияют на его возврат в срок?"
   ]
  },
  {
   "cell_type": "code",
   "execution_count": null,
   "metadata": {},
   "outputs": [],
   "source": [
    "\n",
    "purpose_osn_report = data.pivot_table(index = 'purpose_osn', columns = 'debt', values = 'total_income', aggfunc = 'count').fillna(0)\n",
    "purpose_osn_report.columns = ['no_debt', 'debt']\n",
    "purpose_osn_report['%'] = purpose_osn_report['debt'] / (purpose_osn_report['debt'] + purpose_osn_report['no_debt'])\n",
    "purpose_osn_report.style.format({'%':'{:.2%}', 'no_debt':'{:.0f}'})"
   ]
  },
  {
   "cell_type": "markdown",
   "metadata": {},
   "source": [
    "### Вывод"
   ]
  },
  {
   "cell_type": "markdown",
   "metadata": {},
   "source": [
    "<font color='purple'>Люди,которые берут кредит на покупку недвижимости и свадьбу возвращают кредит в срок чаще.</font>"
   ]
  },
  {
   "cell_type": "markdown",
   "metadata": {},
   "source": [
    "### Шаг 4. Общий вывод"
   ]
  },
  {
   "cell_type": "markdown",
   "metadata": {},
   "source": [
    "<font color='purple'>Для людей в разводе, или вдов/вдовцов, у которых нет детей, и которые хотят взять кредит на покупку недвижимости или свадьбу можно предложить кредит по акции под более низкий процент,т.к. это категории граждан с наименьшими рисками. Тем самым привлечь больше людей и выдать больше кредитов и получить больше прибыли.</font>"
   ]
  },
  {
   "cell_type": "code",
   "execution_count": null,
   "metadata": {},
   "outputs": [],
   "source": []
  }
 ],
 "metadata": {
  "kernelspec": {
   "display_name": "Python 3",
   "language": "python",
   "name": "python3"
  },
  "language_info": {
   "codemirror_mode": {
    "name": "ipython",
    "version": 3
   },
   "file_extension": ".py",
   "mimetype": "text/x-python",
   "name": "python",
   "nbconvert_exporter": "python",
   "pygments_lexer": "ipython3",
   "version": "3.8.5"
  },
  "toc": {
   "base_numbering": 1,
   "nav_menu": {},
   "number_sections": true,
   "sideBar": true,
   "skip_h1_title": false,
   "title_cell": "Table of Contents",
   "title_sidebar": "Contents",
   "toc_cell": false,
   "toc_position": {},
   "toc_section_display": true,
   "toc_window_display": false
  }
 },
 "nbformat": 4,
 "nbformat_minor": 2
}
