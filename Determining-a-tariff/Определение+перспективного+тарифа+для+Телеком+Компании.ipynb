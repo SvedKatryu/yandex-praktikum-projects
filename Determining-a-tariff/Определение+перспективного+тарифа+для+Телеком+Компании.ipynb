{
 "cells": [
  {
   "cell_type": "markdown",
   "metadata": {},
   "source": [
    "## Описание проекта\n",
    " Клиентам компании федерального оператора сотовой связи предлагают два тарифных плана: «Смарт» и «Ультра». Чтобы скорректировать рекламный бюджет, коммерческий департамент хочет понять, какой тариф приносит больше денег.\n",
    "Необходимо сделать предварительный анализ тарифов на небольшой выборке клиентов. В распоряжении данные 500 пользователей оператора сотовой связи: кто они, откуда, каким тарифом пользуются, сколько звонков и сообщений каждый отправил за 2018 год. Нужно проанализировать поведение клиентов и сделать вывод — какой тариф лучше.\n"
   ]
  },
  {
   "cell_type": "markdown",
   "metadata": {},
   "source": [
    "###  Откройте файл с данными и изучите общую  информацию"
   ]
  },
  {
   "cell_type": "markdown",
   "metadata": {},
   "source": [
    "#### Таблица CALLS"
   ]
  },
  {
   "cell_type": "code",
   "execution_count": 1,
   "metadata": {},
   "outputs": [
    {
     "name": "stdout",
     "output_type": "stream",
     "text": [
      "<class 'pandas.core.frame.DataFrame'>\n",
      "RangeIndex: 202607 entries, 0 to 202606\n",
      "Data columns (total 4 columns):\n",
      "id           202607 non-null object\n",
      "call_date    202607 non-null object\n",
      "duration     202607 non-null float64\n",
      "user_id      202607 non-null int64\n",
      "dtypes: float64(1), int64(1), object(2)\n",
      "memory usage: 6.2+ MB\n"
     ]
    },
    {
     "data": {
      "text/html": [
       "<div>\n",
       "<style scoped>\n",
       "    .dataframe tbody tr th:only-of-type {\n",
       "        vertical-align: middle;\n",
       "    }\n",
       "\n",
       "    .dataframe tbody tr th {\n",
       "        vertical-align: top;\n",
       "    }\n",
       "\n",
       "    .dataframe thead th {\n",
       "        text-align: right;\n",
       "    }\n",
       "</style>\n",
       "<table border=\"1\" class=\"dataframe\">\n",
       "  <thead>\n",
       "    <tr style=\"text-align: right;\">\n",
       "      <th></th>\n",
       "      <th>id</th>\n",
       "      <th>call_date</th>\n",
       "      <th>duration</th>\n",
       "      <th>user_id</th>\n",
       "    </tr>\n",
       "  </thead>\n",
       "  <tbody>\n",
       "    <tr>\n",
       "      <td>0</td>\n",
       "      <td>1000_0</td>\n",
       "      <td>2018-07-25</td>\n",
       "      <td>0.00</td>\n",
       "      <td>1000</td>\n",
       "    </tr>\n",
       "    <tr>\n",
       "      <td>1</td>\n",
       "      <td>1000_1</td>\n",
       "      <td>2018-08-17</td>\n",
       "      <td>0.00</td>\n",
       "      <td>1000</td>\n",
       "    </tr>\n",
       "    <tr>\n",
       "      <td>2</td>\n",
       "      <td>1000_2</td>\n",
       "      <td>2018-06-11</td>\n",
       "      <td>2.85</td>\n",
       "      <td>1000</td>\n",
       "    </tr>\n",
       "    <tr>\n",
       "      <td>3</td>\n",
       "      <td>1000_3</td>\n",
       "      <td>2018-09-21</td>\n",
       "      <td>13.80</td>\n",
       "      <td>1000</td>\n",
       "    </tr>\n",
       "    <tr>\n",
       "      <td>4</td>\n",
       "      <td>1000_4</td>\n",
       "      <td>2018-12-15</td>\n",
       "      <td>5.18</td>\n",
       "      <td>1000</td>\n",
       "    </tr>\n",
       "  </tbody>\n",
       "</table>\n",
       "</div>"
      ],
      "text/plain": [
       "       id   call_date  duration  user_id\n",
       "0  1000_0  2018-07-25      0.00     1000\n",
       "1  1000_1  2018-08-17      0.00     1000\n",
       "2  1000_2  2018-06-11      2.85     1000\n",
       "3  1000_3  2018-09-21     13.80     1000\n",
       "4  1000_4  2018-12-15      5.18     1000"
      ]
     },
     "execution_count": 1,
     "metadata": {},
     "output_type": "execute_result"
    }
   ],
   "source": [
    "import pandas as pd\n",
    "import numpy as np\n",
    "import matplotlib.pyplot as plt\n",
    "from scipy import stats as st\n",
    "\n",
    "calls = pd.read_csv('/datasets/calls.csv')\n",
    "calls.info()\n",
    "calls.head()"
   ]
  },
  {
   "cell_type": "markdown",
   "metadata": {},
   "source": [
    "#### Вывод по таблице CALLS"
   ]
  },
  {
   "cell_type": "markdown",
   "metadata": {},
   "source": [
    "Использую *.info()*, *.sample()*.\n",
    "В других столбцах визуально никаких аномалий не вижу."
   ]
  },
  {
   "cell_type": "markdown",
   "metadata": {},
   "source": [
    "#### Таблица INTERNET"
   ]
  },
  {
   "cell_type": "code",
   "execution_count": 2,
   "metadata": {},
   "outputs": [
    {
     "name": "stdout",
     "output_type": "stream",
     "text": [
      "<class 'pandas.core.frame.DataFrame'>\n",
      "Int64Index: 149396 entries, 0 to 149395\n",
      "Data columns (total 4 columns):\n",
      "id              149396 non-null object\n",
      "mb_used         149396 non-null float64\n",
      "session_date    149396 non-null object\n",
      "user_id         149396 non-null int64\n",
      "dtypes: float64(1), int64(1), object(2)\n",
      "memory usage: 5.7+ MB\n"
     ]
    },
    {
     "data": {
      "text/html": [
       "<div>\n",
       "<style scoped>\n",
       "    .dataframe tbody tr th:only-of-type {\n",
       "        vertical-align: middle;\n",
       "    }\n",
       "\n",
       "    .dataframe tbody tr th {\n",
       "        vertical-align: top;\n",
       "    }\n",
       "\n",
       "    .dataframe thead th {\n",
       "        text-align: right;\n",
       "    }\n",
       "</style>\n",
       "<table border=\"1\" class=\"dataframe\">\n",
       "  <thead>\n",
       "    <tr style=\"text-align: right;\">\n",
       "      <th></th>\n",
       "      <th>id</th>\n",
       "      <th>mb_used</th>\n",
       "      <th>session_date</th>\n",
       "      <th>user_id</th>\n",
       "    </tr>\n",
       "  </thead>\n",
       "  <tbody>\n",
       "    <tr>\n",
       "      <td>0</td>\n",
       "      <td>1000_0</td>\n",
       "      <td>112.95</td>\n",
       "      <td>2018-11-25</td>\n",
       "      <td>1000</td>\n",
       "    </tr>\n",
       "    <tr>\n",
       "      <td>1</td>\n",
       "      <td>1000_1</td>\n",
       "      <td>1052.81</td>\n",
       "      <td>2018-09-07</td>\n",
       "      <td>1000</td>\n",
       "    </tr>\n",
       "    <tr>\n",
       "      <td>2</td>\n",
       "      <td>1000_2</td>\n",
       "      <td>1197.26</td>\n",
       "      <td>2018-06-25</td>\n",
       "      <td>1000</td>\n",
       "    </tr>\n",
       "    <tr>\n",
       "      <td>3</td>\n",
       "      <td>1000_3</td>\n",
       "      <td>550.27</td>\n",
       "      <td>2018-08-22</td>\n",
       "      <td>1000</td>\n",
       "    </tr>\n",
       "    <tr>\n",
       "      <td>4</td>\n",
       "      <td>1000_4</td>\n",
       "      <td>302.56</td>\n",
       "      <td>2018-09-24</td>\n",
       "      <td>1000</td>\n",
       "    </tr>\n",
       "  </tbody>\n",
       "</table>\n",
       "</div>"
      ],
      "text/plain": [
       "       id  mb_used session_date  user_id\n",
       "0  1000_0   112.95   2018-11-25     1000\n",
       "1  1000_1  1052.81   2018-09-07     1000\n",
       "2  1000_2  1197.26   2018-06-25     1000\n",
       "3  1000_3   550.27   2018-08-22     1000\n",
       "4  1000_4   302.56   2018-09-24     1000"
      ]
     },
     "execution_count": 2,
     "metadata": {},
     "output_type": "execute_result"
    }
   ],
   "source": [
    "internet = pd.read_csv('/datasets/internet.csv',index_col=0)\n",
    "internet.info()\n",
    "internet.head()"
   ]
  },
  {
   "cell_type": "markdown",
   "metadata": {},
   "source": [
    "####  Вывод по таблице INTERNET"
   ]
  },
  {
   "cell_type": "markdown",
   "metadata": {},
   "source": [
    "Использую *.info()*, *.sample()*.\n",
    "\n",
    "В столбцах визуально никаких аномалий не вижу."
   ]
  },
  {
   "cell_type": "markdown",
   "metadata": {},
   "source": [
    "#### Таблица MESSAGES"
   ]
  },
  {
   "cell_type": "code",
   "execution_count": 3,
   "metadata": {},
   "outputs": [
    {
     "name": "stdout",
     "output_type": "stream",
     "text": [
      "<class 'pandas.core.frame.DataFrame'>\n",
      "RangeIndex: 123036 entries, 0 to 123035\n",
      "Data columns (total 3 columns):\n",
      "id              123036 non-null object\n",
      "message_date    123036 non-null object\n",
      "user_id         123036 non-null int64\n",
      "dtypes: int64(1), object(2)\n",
      "memory usage: 2.8+ MB\n"
     ]
    },
    {
     "data": {
      "text/html": [
       "<div>\n",
       "<style scoped>\n",
       "    .dataframe tbody tr th:only-of-type {\n",
       "        vertical-align: middle;\n",
       "    }\n",
       "\n",
       "    .dataframe tbody tr th {\n",
       "        vertical-align: top;\n",
       "    }\n",
       "\n",
       "    .dataframe thead th {\n",
       "        text-align: right;\n",
       "    }\n",
       "</style>\n",
       "<table border=\"1\" class=\"dataframe\">\n",
       "  <thead>\n",
       "    <tr style=\"text-align: right;\">\n",
       "      <th></th>\n",
       "      <th>id</th>\n",
       "      <th>message_date</th>\n",
       "      <th>user_id</th>\n",
       "    </tr>\n",
       "  </thead>\n",
       "  <tbody>\n",
       "    <tr>\n",
       "      <td>64024</td>\n",
       "      <td>1277_701</td>\n",
       "      <td>2018-03-16</td>\n",
       "      <td>1277</td>\n",
       "    </tr>\n",
       "    <tr>\n",
       "      <td>48511</td>\n",
       "      <td>1214_310</td>\n",
       "      <td>2018-09-17</td>\n",
       "      <td>1214</td>\n",
       "    </tr>\n",
       "    <tr>\n",
       "      <td>60579</td>\n",
       "      <td>1266_187</td>\n",
       "      <td>2018-08-30</td>\n",
       "      <td>1266</td>\n",
       "    </tr>\n",
       "    <tr>\n",
       "      <td>90689</td>\n",
       "      <td>1375_489</td>\n",
       "      <td>2018-12-08</td>\n",
       "      <td>1375</td>\n",
       "    </tr>\n",
       "    <tr>\n",
       "      <td>81944</td>\n",
       "      <td>1344_8</td>\n",
       "      <td>2018-09-25</td>\n",
       "      <td>1344</td>\n",
       "    </tr>\n",
       "    <tr>\n",
       "      <td>94962</td>\n",
       "      <td>1390_0</td>\n",
       "      <td>2018-10-25</td>\n",
       "      <td>1390</td>\n",
       "    </tr>\n",
       "    <tr>\n",
       "      <td>79188</td>\n",
       "      <td>1331_411</td>\n",
       "      <td>2018-09-27</td>\n",
       "      <td>1331</td>\n",
       "    </tr>\n",
       "    <tr>\n",
       "      <td>59298</td>\n",
       "      <td>1259_165</td>\n",
       "      <td>2018-11-14</td>\n",
       "      <td>1259</td>\n",
       "    </tr>\n",
       "    <tr>\n",
       "      <td>19568</td>\n",
       "      <td>1086_254</td>\n",
       "      <td>2018-06-13</td>\n",
       "      <td>1086</td>\n",
       "    </tr>\n",
       "    <tr>\n",
       "      <td>11633</td>\n",
       "      <td>1048_279</td>\n",
       "      <td>2018-09-07</td>\n",
       "      <td>1048</td>\n",
       "    </tr>\n",
       "  </tbody>\n",
       "</table>\n",
       "</div>"
      ],
      "text/plain": [
       "             id message_date  user_id\n",
       "64024  1277_701   2018-03-16     1277\n",
       "48511  1214_310   2018-09-17     1214\n",
       "60579  1266_187   2018-08-30     1266\n",
       "90689  1375_489   2018-12-08     1375\n",
       "81944    1344_8   2018-09-25     1344\n",
       "94962    1390_0   2018-10-25     1390\n",
       "79188  1331_411   2018-09-27     1331\n",
       "59298  1259_165   2018-11-14     1259\n",
       "19568  1086_254   2018-06-13     1086\n",
       "11633  1048_279   2018-09-07     1048"
      ]
     },
     "execution_count": 3,
     "metadata": {},
     "output_type": "execute_result"
    }
   ],
   "source": [
    "messages = pd.read_csv('/datasets/messages.csv')\n",
    "messages.info()\n",
    "messages.sample(10)"
   ]
  },
  {
   "cell_type": "markdown",
   "metadata": {},
   "source": [
    "####  Вывод по таблице MESSAGES"
   ]
  },
  {
   "cell_type": "markdown",
   "metadata": {},
   "source": [
    "Использую *.info()*, *.sample()*.\n",
    "\n",
    "В столбцах визуально никаких аномалий не вижу."
   ]
  },
  {
   "cell_type": "markdown",
   "metadata": {},
   "source": [
    "#### Таблица TARIFFS"
   ]
  },
  {
   "cell_type": "code",
   "execution_count": 4,
   "metadata": {},
   "outputs": [
    {
     "name": "stdout",
     "output_type": "stream",
     "text": [
      "<class 'pandas.core.frame.DataFrame'>\n",
      "RangeIndex: 2 entries, 0 to 1\n",
      "Data columns (total 8 columns):\n",
      "messages_included        2 non-null int64\n",
      "mb_per_month_included    2 non-null int64\n",
      "minutes_included         2 non-null int64\n",
      "rub_monthly_fee          2 non-null int64\n",
      "rub_per_gb               2 non-null int64\n",
      "rub_per_message          2 non-null int64\n",
      "rub_per_minute           2 non-null int64\n",
      "tariff_name              2 non-null object\n",
      "dtypes: int64(7), object(1)\n",
      "memory usage: 256.0+ bytes\n"
     ]
    },
    {
     "data": {
      "text/html": [
       "<div>\n",
       "<style scoped>\n",
       "    .dataframe tbody tr th:only-of-type {\n",
       "        vertical-align: middle;\n",
       "    }\n",
       "\n",
       "    .dataframe tbody tr th {\n",
       "        vertical-align: top;\n",
       "    }\n",
       "\n",
       "    .dataframe thead th {\n",
       "        text-align: right;\n",
       "    }\n",
       "</style>\n",
       "<table border=\"1\" class=\"dataframe\">\n",
       "  <thead>\n",
       "    <tr style=\"text-align: right;\">\n",
       "      <th></th>\n",
       "      <th>messages_included</th>\n",
       "      <th>mb_per_month_included</th>\n",
       "      <th>minutes_included</th>\n",
       "      <th>rub_monthly_fee</th>\n",
       "      <th>rub_per_gb</th>\n",
       "      <th>rub_per_message</th>\n",
       "      <th>rub_per_minute</th>\n",
       "      <th>tariff_name</th>\n",
       "    </tr>\n",
       "  </thead>\n",
       "  <tbody>\n",
       "    <tr>\n",
       "      <td>0</td>\n",
       "      <td>50</td>\n",
       "      <td>15360</td>\n",
       "      <td>500</td>\n",
       "      <td>550</td>\n",
       "      <td>200</td>\n",
       "      <td>3</td>\n",
       "      <td>3</td>\n",
       "      <td>smart</td>\n",
       "    </tr>\n",
       "    <tr>\n",
       "      <td>1</td>\n",
       "      <td>1000</td>\n",
       "      <td>30720</td>\n",
       "      <td>3000</td>\n",
       "      <td>1950</td>\n",
       "      <td>150</td>\n",
       "      <td>1</td>\n",
       "      <td>1</td>\n",
       "      <td>ultra</td>\n",
       "    </tr>\n",
       "  </tbody>\n",
       "</table>\n",
       "</div>"
      ],
      "text/plain": [
       "   messages_included  mb_per_month_included  minutes_included  \\\n",
       "0                 50                  15360               500   \n",
       "1               1000                  30720              3000   \n",
       "\n",
       "   rub_monthly_fee  rub_per_gb  rub_per_message  rub_per_minute tariff_name  \n",
       "0              550         200                3               3       smart  \n",
       "1             1950         150                1               1       ultra  "
      ]
     },
     "execution_count": 4,
     "metadata": {},
     "output_type": "execute_result"
    }
   ],
   "source": [
    "tariffs = pd.read_csv('/datasets/tariffs.csv')\n",
    "tariffs.info()\n",
    "tariffs"
   ]
  },
  {
   "cell_type": "markdown",
   "metadata": {},
   "source": [
    "####  Вывод по таблице TARIFFS"
   ]
  },
  {
   "cell_type": "markdown",
   "metadata": {},
   "source": [
    "Использую .info().\n",
    "\n",
    "В столбцах визуально никаких аномалий не вижу."
   ]
  },
  {
   "cell_type": "markdown",
   "metadata": {},
   "source": [
    "#### Таблица USERS"
   ]
  },
  {
   "cell_type": "code",
   "execution_count": 5,
   "metadata": {},
   "outputs": [
    {
     "name": "stdout",
     "output_type": "stream",
     "text": [
      "<class 'pandas.core.frame.DataFrame'>\n",
      "RangeIndex: 500 entries, 0 to 499\n",
      "Data columns (total 8 columns):\n",
      "user_id       500 non-null int64\n",
      "age           500 non-null int64\n",
      "churn_date    38 non-null object\n",
      "city          500 non-null object\n",
      "first_name    500 non-null object\n",
      "last_name     500 non-null object\n",
      "reg_date      500 non-null object\n",
      "tariff        500 non-null object\n",
      "dtypes: int64(2), object(6)\n",
      "memory usage: 31.4+ KB\n"
     ]
    },
    {
     "data": {
      "text/html": [
       "<div>\n",
       "<style scoped>\n",
       "    .dataframe tbody tr th:only-of-type {\n",
       "        vertical-align: middle;\n",
       "    }\n",
       "\n",
       "    .dataframe tbody tr th {\n",
       "        vertical-align: top;\n",
       "    }\n",
       "\n",
       "    .dataframe thead th {\n",
       "        text-align: right;\n",
       "    }\n",
       "</style>\n",
       "<table border=\"1\" class=\"dataframe\">\n",
       "  <thead>\n",
       "    <tr style=\"text-align: right;\">\n",
       "      <th></th>\n",
       "      <th>user_id</th>\n",
       "      <th>age</th>\n",
       "      <th>churn_date</th>\n",
       "      <th>city</th>\n",
       "      <th>first_name</th>\n",
       "      <th>last_name</th>\n",
       "      <th>reg_date</th>\n",
       "      <th>tariff</th>\n",
       "    </tr>\n",
       "  </thead>\n",
       "  <tbody>\n",
       "    <tr>\n",
       "      <td>271</td>\n",
       "      <td>1271</td>\n",
       "      <td>69</td>\n",
       "      <td>2018-11-13</td>\n",
       "      <td>Челябинск</td>\n",
       "      <td>Аурелия</td>\n",
       "      <td>Чижова</td>\n",
       "      <td>2018-07-14</td>\n",
       "      <td>ultra</td>\n",
       "    </tr>\n",
       "    <tr>\n",
       "      <td>439</td>\n",
       "      <td>1439</td>\n",
       "      <td>62</td>\n",
       "      <td>NaN</td>\n",
       "      <td>Орёл</td>\n",
       "      <td>Евгения</td>\n",
       "      <td>Афонина</td>\n",
       "      <td>2018-06-30</td>\n",
       "      <td>smart</td>\n",
       "    </tr>\n",
       "    <tr>\n",
       "      <td>449</td>\n",
       "      <td>1449</td>\n",
       "      <td>55</td>\n",
       "      <td>NaN</td>\n",
       "      <td>Москва</td>\n",
       "      <td>Дана</td>\n",
       "      <td>Новикова</td>\n",
       "      <td>2018-07-16</td>\n",
       "      <td>smart</td>\n",
       "    </tr>\n",
       "    <tr>\n",
       "      <td>183</td>\n",
       "      <td>1183</td>\n",
       "      <td>20</td>\n",
       "      <td>NaN</td>\n",
       "      <td>Владивосток</td>\n",
       "      <td>Снежана</td>\n",
       "      <td>Озерова</td>\n",
       "      <td>2018-07-12</td>\n",
       "      <td>smart</td>\n",
       "    </tr>\n",
       "    <tr>\n",
       "      <td>51</td>\n",
       "      <td>1051</td>\n",
       "      <td>37</td>\n",
       "      <td>2018-10-14</td>\n",
       "      <td>Москва</td>\n",
       "      <td>Кристина</td>\n",
       "      <td>Сомова</td>\n",
       "      <td>2018-05-28</td>\n",
       "      <td>smart</td>\n",
       "    </tr>\n",
       "    <tr>\n",
       "      <td>489</td>\n",
       "      <td>1489</td>\n",
       "      <td>35</td>\n",
       "      <td>NaN</td>\n",
       "      <td>Санкт-Петербург</td>\n",
       "      <td>Павел</td>\n",
       "      <td>Гончаров</td>\n",
       "      <td>2018-08-15</td>\n",
       "      <td>smart</td>\n",
       "    </tr>\n",
       "    <tr>\n",
       "      <td>162</td>\n",
       "      <td>1162</td>\n",
       "      <td>63</td>\n",
       "      <td>NaN</td>\n",
       "      <td>Москва</td>\n",
       "      <td>Марта</td>\n",
       "      <td>Минаева</td>\n",
       "      <td>2018-10-09</td>\n",
       "      <td>smart</td>\n",
       "    </tr>\n",
       "    <tr>\n",
       "      <td>287</td>\n",
       "      <td>1287</td>\n",
       "      <td>39</td>\n",
       "      <td>NaN</td>\n",
       "      <td>Севастополь</td>\n",
       "      <td>Вениамин</td>\n",
       "      <td>Мишин</td>\n",
       "      <td>2018-09-23</td>\n",
       "      <td>smart</td>\n",
       "    </tr>\n",
       "    <tr>\n",
       "      <td>210</td>\n",
       "      <td>1210</td>\n",
       "      <td>33</td>\n",
       "      <td>NaN</td>\n",
       "      <td>Севастополь</td>\n",
       "      <td>Евфросинья</td>\n",
       "      <td>Серебрякова</td>\n",
       "      <td>2018-07-29</td>\n",
       "      <td>smart</td>\n",
       "    </tr>\n",
       "    <tr>\n",
       "      <td>429</td>\n",
       "      <td>1429</td>\n",
       "      <td>54</td>\n",
       "      <td>NaN</td>\n",
       "      <td>Санкт-Петербург</td>\n",
       "      <td>Джулия</td>\n",
       "      <td>Белякова</td>\n",
       "      <td>2018-01-26</td>\n",
       "      <td>smart</td>\n",
       "    </tr>\n",
       "  </tbody>\n",
       "</table>\n",
       "</div>"
      ],
      "text/plain": [
       "     user_id  age  churn_date             city  first_name    last_name  \\\n",
       "271     1271   69  2018-11-13        Челябинск     Аурелия       Чижова   \n",
       "439     1439   62         NaN             Орёл     Евгения      Афонина   \n",
       "449     1449   55         NaN           Москва        Дана     Новикова   \n",
       "183     1183   20         NaN      Владивосток     Снежана      Озерова   \n",
       "51      1051   37  2018-10-14           Москва    Кристина       Сомова   \n",
       "489     1489   35         NaN  Санкт-Петербург       Павел     Гончаров   \n",
       "162     1162   63         NaN           Москва       Марта      Минаева   \n",
       "287     1287   39         NaN      Севастополь    Вениамин        Мишин   \n",
       "210     1210   33         NaN      Севастополь  Евфросинья  Серебрякова   \n",
       "429     1429   54         NaN  Санкт-Петербург      Джулия     Белякова   \n",
       "\n",
       "       reg_date tariff  \n",
       "271  2018-07-14  ultra  \n",
       "439  2018-06-30  smart  \n",
       "449  2018-07-16  smart  \n",
       "183  2018-07-12  smart  \n",
       "51   2018-05-28  smart  \n",
       "489  2018-08-15  smart  \n",
       "162  2018-10-09  smart  \n",
       "287  2018-09-23  smart  \n",
       "210  2018-07-29  smart  \n",
       "429  2018-01-26  smart  "
      ]
     },
     "execution_count": 5,
     "metadata": {},
     "output_type": "execute_result"
    }
   ],
   "source": [
    "users = pd.read_csv('/datasets/users.csv')\n",
    "users.info()\n",
    "users.sample(10)"
   ]
  },
  {
   "cell_type": "markdown",
   "metadata": {},
   "source": [
    "####  Вывод по таблице USERS"
   ]
  },
  {
   "cell_type": "markdown",
   "metadata": {},
   "source": [
    "Использую *.info()*, *.sample()*.\n",
    "\n",
    "В столбце **churn_date** есть пропуски.В этом столбце указана дата прекращения пользования тарифами. Получается, что пропуск образовался из-за того, что тариф ещё действовал на момент выгрузки данных.\n",
    "\n",
    "В остальных столбцах визуально никаких аномалий не вижу."
   ]
  },
  {
   "cell_type": "markdown",
   "metadata": {},
   "source": [
    "### Подготовьте данные"
   ]
  },
  {
   "cell_type": "markdown",
   "metadata": {},
   "source": [
    "####  Обработка пропусков и аномалий"
   ]
  },
  {
   "cell_type": "code",
   "execution_count": 6,
   "metadata": {
    "scrolled": true
   },
   "outputs": [
    {
     "data": {
      "text/plain": [
       "id           0.0\n",
       "call_date    0.0\n",
       "duration     0.0\n",
       "user_id      0.0\n",
       "dtype: float64"
      ]
     },
     "metadata": {},
     "output_type": "display_data"
    },
    {
     "data": {
      "text/plain": [
       "'calls'"
      ]
     },
     "metadata": {},
     "output_type": "display_data"
    },
    {
     "data": {
      "text/plain": [
       "id              0.0\n",
       "mb_used         0.0\n",
       "session_date    0.0\n",
       "user_id         0.0\n",
       "dtype: float64"
      ]
     },
     "metadata": {},
     "output_type": "display_data"
    },
    {
     "data": {
      "text/plain": [
       "'internet'"
      ]
     },
     "metadata": {},
     "output_type": "display_data"
    },
    {
     "data": {
      "text/plain": [
       "id              0.0\n",
       "message_date    0.0\n",
       "user_id         0.0\n",
       "dtype: float64"
      ]
     },
     "metadata": {},
     "output_type": "display_data"
    },
    {
     "data": {
      "text/plain": [
       "'messages'"
      ]
     },
     "metadata": {},
     "output_type": "display_data"
    },
    {
     "data": {
      "text/plain": [
       "messages_included        0.0\n",
       "mb_per_month_included    0.0\n",
       "minutes_included         0.0\n",
       "rub_monthly_fee          0.0\n",
       "rub_per_gb               0.0\n",
       "rub_per_message          0.0\n",
       "rub_per_minute           0.0\n",
       "tariff_name              0.0\n",
       "dtype: float64"
      ]
     },
     "metadata": {},
     "output_type": "display_data"
    },
    {
     "data": {
      "text/plain": [
       "'tariffs'"
      ]
     },
     "metadata": {},
     "output_type": "display_data"
    },
    {
     "data": {
      "text/plain": [
       "user_id       0.000\n",
       "age           0.000\n",
       "churn_date    0.924\n",
       "city          0.000\n",
       "first_name    0.000\n",
       "last_name     0.000\n",
       "reg_date      0.000\n",
       "tariff        0.000\n",
       "dtype: float64"
      ]
     },
     "metadata": {},
     "output_type": "display_data"
    },
    {
     "data": {
      "text/plain": [
       "'users'"
      ]
     },
     "metadata": {},
     "output_type": "display_data"
    },
    {
     "data": {
      "text/plain": [
       "0.00     0.195516\n",
       "4.49     0.000701\n",
       "5.50     0.000701\n",
       "6.15     0.000696\n",
       "6.38     0.000696\n",
       "           ...   \n",
       "27.02    0.000005\n",
       "26.19    0.000005\n",
       "25.34    0.000005\n",
       "27.13    0.000005\n",
       "24.28    0.000005\n",
       "Name: duration, Length: 2871, dtype: float64"
      ]
     },
     "metadata": {},
     "output_type": "display_data"
    },
    {
     "data": {
      "text/plain": [
       "0.00      0.131182\n",
       "197.56    0.000060\n",
       "447.30    0.000060\n",
       "335.91    0.000060\n",
       "108.95    0.000054\n",
       "            ...   \n",
       "72.49     0.000007\n",
       "846.22    0.000007\n",
       "429.17    0.000007\n",
       "899.03    0.000007\n",
       "483.87    0.000007\n",
       "Name: mb_used, Length: 70003, dtype: float64"
      ]
     },
     "metadata": {},
     "output_type": "display_data"
    }
   ],
   "source": [
    "display(calls.isna().mean(),'calls')\n",
    "display(internet.isna().mean(),'internet')\n",
    "display(messages.isna().mean(),'messages')\n",
    "display(tariffs.isna().mean(), 'tariffs')\n",
    "display(users.isna().mean(),'users')\n",
    "\n",
    "display(calls['duration'].value_counts(normalize=True))\n",
    "display(internet['mb_used'].value_counts(normalize=True))\n",
    "\n",
    "calls.loc[calls['duration'] == 0, 'duration'] = 1 \n",
    "calls['duration'] = calls['duration'].fillna(0)\n",
    "calls.tail(10)\n",
    "\n",
    "internet.loc[internet['mb_used'] == 0, 'mb_used'] = 1 \n",
    "internet['mb_used'] = internet['mb_used'].fillna(0)"
   ]
  },
  {
   "cell_type": "markdown",
   "metadata": {},
   "source": [
    "####  Вывод по обработке пропусков и аномалиям"
   ]
  },
  {
   "cell_type": "markdown",
   "metadata": {},
   "source": [
    " В таблицах *calls*, *messages*, *tariffs*,*internet* нет пропущенных значений.\n",
    "\n",
    "В таблице users есть пропуски в столбце **churn_date**.В этом столбце указана дата прекращения пользования тарифами. Получается, что пропуск образовался из-за того, что тариф ещё действовал на момент выгрузки данных. Для анализа обрабатывать их необязательно.\n",
    "\n",
    "В столбце **duration** таблицы *calls* 19% звонков с нулевой длительностью.В столбце **mb_used** таблицы *internet* есть 13% строк с нулевым интернет-трафиком потраченным за сессию.Но, учитывая, что было сказано: \"«Мегалайн» всегда округляет вверх значения минут и мегабайтов. Если пользователь проговорил всего 1 секунду, в тарифе засчитывается целая минута.\" Заменяю звонки длительностью 0 на 1. Заменяю строки с 0-м объемом интернет-трафика на 1."
   ]
  },
  {
   "cell_type": "markdown",
   "metadata": {},
   "source": [
    "<font color='purple'> Поскольку у нас указано, что провайдер округляет всё в большую сторону и секунды разговоров и интернет-трафик, и учитывая, то что этих данных 19 % я приняла решение округлить их до единицы.Преподаватель написал, что он тоже бы округлил до единицы. Решили, что провайдер 'очень жадный' и тарифицирует даже доли секунд. Это могут быть очень короткие звонки, когда делаешь посыл вызова, передумал, но соединение на долю секунд состоялось или сбои сети.  </font>"
   ]
  },
  {
   "cell_type": "code",
   "execution_count": 7,
   "metadata": {},
   "outputs": [
    {
     "data": {
      "text/html": [
       "<div>\n",
       "<style scoped>\n",
       "    .dataframe tbody tr th:only-of-type {\n",
       "        vertical-align: middle;\n",
       "    }\n",
       "\n",
       "    .dataframe tbody tr th {\n",
       "        vertical-align: top;\n",
       "    }\n",
       "\n",
       "    .dataframe thead th {\n",
       "        text-align: right;\n",
       "    }\n",
       "</style>\n",
       "<table border=\"1\" class=\"dataframe\">\n",
       "  <thead>\n",
       "    <tr style=\"text-align: right;\">\n",
       "      <th></th>\n",
       "      <th>id</th>\n",
       "      <th>call_date</th>\n",
       "      <th>duration</th>\n",
       "      <th>user_id</th>\n",
       "    </tr>\n",
       "  </thead>\n",
       "  <tbody>\n",
       "    <tr>\n",
       "      <td>59995</td>\n",
       "      <td>1151_20</td>\n",
       "      <td>2018-10-17</td>\n",
       "      <td>7.0</td>\n",
       "      <td>1151</td>\n",
       "    </tr>\n",
       "    <tr>\n",
       "      <td>150803</td>\n",
       "      <td>1377_1650</td>\n",
       "      <td>2018-04-03</td>\n",
       "      <td>2.0</td>\n",
       "      <td>1377</td>\n",
       "    </tr>\n",
       "  </tbody>\n",
       "</table>\n",
       "</div>"
      ],
      "text/plain": [
       "               id   call_date  duration  user_id\n",
       "59995     1151_20  2018-10-17       7.0     1151\n",
       "150803  1377_1650  2018-04-03       2.0     1377"
      ]
     },
     "metadata": {},
     "output_type": "display_data"
    },
    {
     "data": {
      "text/html": [
       "<div>\n",
       "<style scoped>\n",
       "    .dataframe tbody tr th:only-of-type {\n",
       "        vertical-align: middle;\n",
       "    }\n",
       "\n",
       "    .dataframe tbody tr th {\n",
       "        vertical-align: top;\n",
       "    }\n",
       "\n",
       "    .dataframe thead th {\n",
       "        text-align: right;\n",
       "    }\n",
       "</style>\n",
       "<table border=\"1\" class=\"dataframe\">\n",
       "  <thead>\n",
       "    <tr style=\"text-align: right;\">\n",
       "      <th></th>\n",
       "      <th>id</th>\n",
       "      <th>mb_used</th>\n",
       "      <th>session_date</th>\n",
       "      <th>user_id</th>\n",
       "    </tr>\n",
       "  </thead>\n",
       "  <tbody>\n",
       "    <tr>\n",
       "      <td>0</td>\n",
       "      <td>1000_0</td>\n",
       "      <td>113.0</td>\n",
       "      <td>2018-11-25</td>\n",
       "      <td>1000</td>\n",
       "    </tr>\n",
       "    <tr>\n",
       "      <td>1</td>\n",
       "      <td>1000_1</td>\n",
       "      <td>1053.0</td>\n",
       "      <td>2018-09-07</td>\n",
       "      <td>1000</td>\n",
       "    </tr>\n",
       "  </tbody>\n",
       "</table>\n",
       "</div>"
      ],
      "text/plain": [
       "       id  mb_used session_date  user_id\n",
       "0  1000_0    113.0   2018-11-25     1000\n",
       "1  1000_1   1053.0   2018-09-07     1000"
      ]
     },
     "execution_count": 7,
     "metadata": {},
     "output_type": "execute_result"
    }
   ],
   "source": [
    "calls['duration'] = np.ceil(calls['duration'])\n",
    "display(calls.sample(2))\n",
    "internet['mb_used'] = np.ceil(internet['mb_used'])\n",
    "internet.head(2)"
   ]
  },
  {
   "cell_type": "markdown",
   "metadata": {},
   "source": [
    "<font color='purple'> Округлила длительность звонков и интернет-трафик до ближайшего целого числа.  </font>"
   ]
  },
  {
   "cell_type": "markdown",
   "metadata": {},
   "source": [
    "####  Подготовка таблиц к объединению"
   ]
  },
  {
   "cell_type": "markdown",
   "metadata": {},
   "source": [
    "Создаю столбец с месяцем для таблицы CALLS,INTERNET,MESSAGES"
   ]
  },
  {
   "cell_type": "code",
   "execution_count": 8,
   "metadata": {},
   "outputs": [
    {
     "data": {
      "text/html": [
       "<div>\n",
       "<style scoped>\n",
       "    .dataframe tbody tr th:only-of-type {\n",
       "        vertical-align: middle;\n",
       "    }\n",
       "\n",
       "    .dataframe tbody tr th {\n",
       "        vertical-align: top;\n",
       "    }\n",
       "\n",
       "    .dataframe thead th {\n",
       "        text-align: right;\n",
       "    }\n",
       "</style>\n",
       "<table border=\"1\" class=\"dataframe\">\n",
       "  <thead>\n",
       "    <tr style=\"text-align: right;\">\n",
       "      <th></th>\n",
       "      <th>id</th>\n",
       "      <th>call_date</th>\n",
       "      <th>duration</th>\n",
       "      <th>user_id</th>\n",
       "      <th>month</th>\n",
       "    </tr>\n",
       "  </thead>\n",
       "  <tbody>\n",
       "    <tr>\n",
       "      <td>0</td>\n",
       "      <td>1000_0</td>\n",
       "      <td>2018-07-25</td>\n",
       "      <td>1.0</td>\n",
       "      <td>1000</td>\n",
       "      <td>7</td>\n",
       "    </tr>\n",
       "    <tr>\n",
       "      <td>1</td>\n",
       "      <td>1000_1</td>\n",
       "      <td>2018-08-17</td>\n",
       "      <td>1.0</td>\n",
       "      <td>1000</td>\n",
       "      <td>8</td>\n",
       "    </tr>\n",
       "    <tr>\n",
       "      <td>2</td>\n",
       "      <td>1000_2</td>\n",
       "      <td>2018-06-11</td>\n",
       "      <td>3.0</td>\n",
       "      <td>1000</td>\n",
       "      <td>6</td>\n",
       "    </tr>\n",
       "    <tr>\n",
       "      <td>3</td>\n",
       "      <td>1000_3</td>\n",
       "      <td>2018-09-21</td>\n",
       "      <td>14.0</td>\n",
       "      <td>1000</td>\n",
       "      <td>9</td>\n",
       "    </tr>\n",
       "    <tr>\n",
       "      <td>4</td>\n",
       "      <td>1000_4</td>\n",
       "      <td>2018-12-15</td>\n",
       "      <td>6.0</td>\n",
       "      <td>1000</td>\n",
       "      <td>12</td>\n",
       "    </tr>\n",
       "  </tbody>\n",
       "</table>\n",
       "</div>"
      ],
      "text/plain": [
       "       id   call_date  duration  user_id  month\n",
       "0  1000_0  2018-07-25       1.0     1000      7\n",
       "1  1000_1  2018-08-17       1.0     1000      8\n",
       "2  1000_2  2018-06-11       3.0     1000      6\n",
       "3  1000_3  2018-09-21      14.0     1000      9\n",
       "4  1000_4  2018-12-15       6.0     1000     12"
      ]
     },
     "execution_count": 8,
     "metadata": {},
     "output_type": "execute_result"
    }
   ],
   "source": [
    "calls['month'] = pd.to_datetime(calls['call_date']).dt.month\n",
    "calls.head()"
   ]
  },
  {
   "cell_type": "code",
   "execution_count": 9,
   "metadata": {},
   "outputs": [
    {
     "data": {
      "text/html": [
       "<div>\n",
       "<style scoped>\n",
       "    .dataframe tbody tr th:only-of-type {\n",
       "        vertical-align: middle;\n",
       "    }\n",
       "\n",
       "    .dataframe tbody tr th {\n",
       "        vertical-align: top;\n",
       "    }\n",
       "\n",
       "    .dataframe thead th {\n",
       "        text-align: right;\n",
       "    }\n",
       "</style>\n",
       "<table border=\"1\" class=\"dataframe\">\n",
       "  <thead>\n",
       "    <tr style=\"text-align: right;\">\n",
       "      <th></th>\n",
       "      <th>id</th>\n",
       "      <th>mb_used</th>\n",
       "      <th>session_date</th>\n",
       "      <th>user_id</th>\n",
       "      <th>month</th>\n",
       "    </tr>\n",
       "  </thead>\n",
       "  <tbody>\n",
       "    <tr>\n",
       "      <td>0</td>\n",
       "      <td>1000_0</td>\n",
       "      <td>113.0</td>\n",
       "      <td>2018-11-25</td>\n",
       "      <td>1000</td>\n",
       "      <td>11</td>\n",
       "    </tr>\n",
       "    <tr>\n",
       "      <td>1</td>\n",
       "      <td>1000_1</td>\n",
       "      <td>1053.0</td>\n",
       "      <td>2018-09-07</td>\n",
       "      <td>1000</td>\n",
       "      <td>9</td>\n",
       "    </tr>\n",
       "    <tr>\n",
       "      <td>2</td>\n",
       "      <td>1000_2</td>\n",
       "      <td>1198.0</td>\n",
       "      <td>2018-06-25</td>\n",
       "      <td>1000</td>\n",
       "      <td>6</td>\n",
       "    </tr>\n",
       "    <tr>\n",
       "      <td>3</td>\n",
       "      <td>1000_3</td>\n",
       "      <td>551.0</td>\n",
       "      <td>2018-08-22</td>\n",
       "      <td>1000</td>\n",
       "      <td>8</td>\n",
       "    </tr>\n",
       "    <tr>\n",
       "      <td>4</td>\n",
       "      <td>1000_4</td>\n",
       "      <td>303.0</td>\n",
       "      <td>2018-09-24</td>\n",
       "      <td>1000</td>\n",
       "      <td>9</td>\n",
       "    </tr>\n",
       "  </tbody>\n",
       "</table>\n",
       "</div>"
      ],
      "text/plain": [
       "       id  mb_used session_date  user_id  month\n",
       "0  1000_0    113.0   2018-11-25     1000     11\n",
       "1  1000_1   1053.0   2018-09-07     1000      9\n",
       "2  1000_2   1198.0   2018-06-25     1000      6\n",
       "3  1000_3    551.0   2018-08-22     1000      8\n",
       "4  1000_4    303.0   2018-09-24     1000      9"
      ]
     },
     "execution_count": 9,
     "metadata": {},
     "output_type": "execute_result"
    }
   ],
   "source": [
    "internet['month'] = pd.to_datetime(internet['session_date']).dt.month\n",
    "internet.head()"
   ]
  },
  {
   "cell_type": "code",
   "execution_count": 10,
   "metadata": {},
   "outputs": [
    {
     "data": {
      "text/html": [
       "<div>\n",
       "<style scoped>\n",
       "    .dataframe tbody tr th:only-of-type {\n",
       "        vertical-align: middle;\n",
       "    }\n",
       "\n",
       "    .dataframe tbody tr th {\n",
       "        vertical-align: top;\n",
       "    }\n",
       "\n",
       "    .dataframe thead th {\n",
       "        text-align: right;\n",
       "    }\n",
       "</style>\n",
       "<table border=\"1\" class=\"dataframe\">\n",
       "  <thead>\n",
       "    <tr style=\"text-align: right;\">\n",
       "      <th></th>\n",
       "      <th>id</th>\n",
       "      <th>message_date</th>\n",
       "      <th>user_id</th>\n",
       "      <th>month</th>\n",
       "    </tr>\n",
       "  </thead>\n",
       "  <tbody>\n",
       "    <tr>\n",
       "      <td>0</td>\n",
       "      <td>1000_0</td>\n",
       "      <td>2018-06-27</td>\n",
       "      <td>1000</td>\n",
       "      <td>6</td>\n",
       "    </tr>\n",
       "    <tr>\n",
       "      <td>1</td>\n",
       "      <td>1000_1</td>\n",
       "      <td>2018-10-08</td>\n",
       "      <td>1000</td>\n",
       "      <td>10</td>\n",
       "    </tr>\n",
       "    <tr>\n",
       "      <td>2</td>\n",
       "      <td>1000_2</td>\n",
       "      <td>2018-08-04</td>\n",
       "      <td>1000</td>\n",
       "      <td>8</td>\n",
       "    </tr>\n",
       "    <tr>\n",
       "      <td>3</td>\n",
       "      <td>1000_3</td>\n",
       "      <td>2018-06-16</td>\n",
       "      <td>1000</td>\n",
       "      <td>6</td>\n",
       "    </tr>\n",
       "    <tr>\n",
       "      <td>4</td>\n",
       "      <td>1000_4</td>\n",
       "      <td>2018-12-05</td>\n",
       "      <td>1000</td>\n",
       "      <td>12</td>\n",
       "    </tr>\n",
       "  </tbody>\n",
       "</table>\n",
       "</div>"
      ],
      "text/plain": [
       "       id message_date  user_id  month\n",
       "0  1000_0   2018-06-27     1000      6\n",
       "1  1000_1   2018-10-08     1000     10\n",
       "2  1000_2   2018-08-04     1000      8\n",
       "3  1000_3   2018-06-16     1000      6\n",
       "4  1000_4   2018-12-05     1000     12"
      ]
     },
     "execution_count": 10,
     "metadata": {},
     "output_type": "execute_result"
    }
   ],
   "source": [
    "messages['month'] = pd.to_datetime(messages['message_date']).dt.month\n",
    "messages.head()"
   ]
  },
  {
   "cell_type": "markdown",
   "metadata": {},
   "source": [
    "Сгруппирую таблицы CALLS,INTERNET,MESSAGES"
   ]
  },
  {
   "cell_type": "code",
   "execution_count": 11,
   "metadata": {},
   "outputs": [
    {
     "data": {
      "text/html": [
       "<div>\n",
       "<style scoped>\n",
       "    .dataframe tbody tr th:only-of-type {\n",
       "        vertical-align: middle;\n",
       "    }\n",
       "\n",
       "    .dataframe tbody tr th {\n",
       "        vertical-align: top;\n",
       "    }\n",
       "\n",
       "    .dataframe thead th {\n",
       "        text-align: right;\n",
       "    }\n",
       "</style>\n",
       "<table border=\"1\" class=\"dataframe\">\n",
       "  <thead>\n",
       "    <tr style=\"text-align: right;\">\n",
       "      <th></th>\n",
       "      <th>user_id</th>\n",
       "      <th>month</th>\n",
       "      <th>duration_of_calls</th>\n",
       "      <th>count_of_calls</th>\n",
       "    </tr>\n",
       "  </thead>\n",
       "  <tbody>\n",
       "    <tr>\n",
       "      <td>367</td>\n",
       "      <td>1057</td>\n",
       "      <td>10</td>\n",
       "      <td>985.0</td>\n",
       "      <td>130</td>\n",
       "    </tr>\n",
       "    <tr>\n",
       "      <td>1927</td>\n",
       "      <td>1308</td>\n",
       "      <td>5</td>\n",
       "      <td>216.0</td>\n",
       "      <td>29</td>\n",
       "    </tr>\n",
       "    <tr>\n",
       "      <td>1993</td>\n",
       "      <td>1318</td>\n",
       "      <td>10</td>\n",
       "      <td>555.0</td>\n",
       "      <td>90</td>\n",
       "    </tr>\n",
       "    <tr>\n",
       "      <td>2199</td>\n",
       "      <td>1353</td>\n",
       "      <td>7</td>\n",
       "      <td>380.0</td>\n",
       "      <td>53</td>\n",
       "    </tr>\n",
       "    <tr>\n",
       "      <td>2524</td>\n",
       "      <td>1396</td>\n",
       "      <td>11</td>\n",
       "      <td>525.0</td>\n",
       "      <td>68</td>\n",
       "    </tr>\n",
       "    <tr>\n",
       "      <td>2670</td>\n",
       "      <td>1421</td>\n",
       "      <td>8</td>\n",
       "      <td>395.0</td>\n",
       "      <td>46</td>\n",
       "    </tr>\n",
       "    <tr>\n",
       "      <td>2938</td>\n",
       "      <td>1463</td>\n",
       "      <td>11</td>\n",
       "      <td>264.0</td>\n",
       "      <td>41</td>\n",
       "    </tr>\n",
       "    <tr>\n",
       "      <td>2570</td>\n",
       "      <td>1404</td>\n",
       "      <td>9</td>\n",
       "      <td>144.0</td>\n",
       "      <td>19</td>\n",
       "    </tr>\n",
       "    <tr>\n",
       "      <td>2355</td>\n",
       "      <td>1376</td>\n",
       "      <td>10</td>\n",
       "      <td>500.0</td>\n",
       "      <td>60</td>\n",
       "    </tr>\n",
       "    <tr>\n",
       "      <td>2818</td>\n",
       "      <td>1441</td>\n",
       "      <td>11</td>\n",
       "      <td>82.0</td>\n",
       "      <td>11</td>\n",
       "    </tr>\n",
       "  </tbody>\n",
       "</table>\n",
       "</div>"
      ],
      "text/plain": [
       "      user_id  month  duration_of_calls  count_of_calls\n",
       "367      1057     10              985.0             130\n",
       "1927     1308      5              216.0              29\n",
       "1993     1318     10              555.0              90\n",
       "2199     1353      7              380.0              53\n",
       "2524     1396     11              525.0              68\n",
       "2670     1421      8              395.0              46\n",
       "2938     1463     11              264.0              41\n",
       "2570     1404      9              144.0              19\n",
       "2355     1376     10              500.0              60\n",
       "2818     1441     11               82.0              11"
      ]
     },
     "execution_count": 11,
     "metadata": {},
     "output_type": "execute_result"
    }
   ],
   "source": [
    "calls_grouped_1 = calls.groupby(['user_id', 'month']).agg({'duration':'sum'}).reset_index()\n",
    "calls_grouped_1.columns = ['user_id', 'month','duration_of_calls']\n",
    "calls_grouped_2 = calls.groupby(['user_id', 'month']).agg({'duration':'count'}).reset_index()\n",
    "calls_grouped_2.columns = ['user_id', 'month','count_of_calls']\n",
    "calls_grouped = calls_grouped_1.merge(calls_grouped_2,on = ['user_id','month'], how='outer')\n",
    "calls_grouped.sample(10)"
   ]
  },
  {
   "cell_type": "markdown",
   "metadata": {},
   "source": [
    "Сделала две сводные таблицы для calls, в одной посчитала длительность звонков, в другой количество звонков и соединила их вместе."
   ]
  },
  {
   "cell_type": "code",
   "execution_count": 12,
   "metadata": {},
   "outputs": [
    {
     "data": {
      "text/html": [
       "<div>\n",
       "<style scoped>\n",
       "    .dataframe tbody tr th:only-of-type {\n",
       "        vertical-align: middle;\n",
       "    }\n",
       "\n",
       "    .dataframe tbody tr th {\n",
       "        vertical-align: top;\n",
       "    }\n",
       "\n",
       "    .dataframe thead th {\n",
       "        text-align: right;\n",
       "    }\n",
       "</style>\n",
       "<table border=\"1\" class=\"dataframe\">\n",
       "  <thead>\n",
       "    <tr style=\"text-align: right;\">\n",
       "      <th></th>\n",
       "      <th>user_id</th>\n",
       "      <th>month</th>\n",
       "      <th>mb_used</th>\n",
       "    </tr>\n",
       "  </thead>\n",
       "  <tbody>\n",
       "    <tr>\n",
       "      <td>145</td>\n",
       "      <td>1021</td>\n",
       "      <td>4</td>\n",
       "      <td>4358.0</td>\n",
       "    </tr>\n",
       "    <tr>\n",
       "      <td>146</td>\n",
       "      <td>1021</td>\n",
       "      <td>5</td>\n",
       "      <td>16108.0</td>\n",
       "    </tr>\n",
       "    <tr>\n",
       "      <td>147</td>\n",
       "      <td>1021</td>\n",
       "      <td>6</td>\n",
       "      <td>22287.0</td>\n",
       "    </tr>\n",
       "    <tr>\n",
       "      <td>148</td>\n",
       "      <td>1021</td>\n",
       "      <td>7</td>\n",
       "      <td>20041.0</td>\n",
       "    </tr>\n",
       "    <tr>\n",
       "      <td>149</td>\n",
       "      <td>1021</td>\n",
       "      <td>8</td>\n",
       "      <td>17502.0</td>\n",
       "    </tr>\n",
       "    <tr>\n",
       "      <td>150</td>\n",
       "      <td>1021</td>\n",
       "      <td>9</td>\n",
       "      <td>18323.0</td>\n",
       "    </tr>\n",
       "    <tr>\n",
       "      <td>151</td>\n",
       "      <td>1021</td>\n",
       "      <td>10</td>\n",
       "      <td>20235.0</td>\n",
       "    </tr>\n",
       "    <tr>\n",
       "      <td>152</td>\n",
       "      <td>1021</td>\n",
       "      <td>11</td>\n",
       "      <td>28203.0</td>\n",
       "    </tr>\n",
       "    <tr>\n",
       "      <td>153</td>\n",
       "      <td>1021</td>\n",
       "      <td>12</td>\n",
       "      <td>27658.0</td>\n",
       "    </tr>\n",
       "  </tbody>\n",
       "</table>\n",
       "</div>"
      ],
      "text/plain": [
       "     user_id  month  mb_used\n",
       "145     1021      4   4358.0\n",
       "146     1021      5  16108.0\n",
       "147     1021      6  22287.0\n",
       "148     1021      7  20041.0\n",
       "149     1021      8  17502.0\n",
       "150     1021      9  18323.0\n",
       "151     1021     10  20235.0\n",
       "152     1021     11  28203.0\n",
       "153     1021     12  27658.0"
      ]
     },
     "execution_count": 12,
     "metadata": {},
     "output_type": "execute_result"
    }
   ],
   "source": [
    "internet_grouped = internet.groupby(['user_id', 'month']).agg({'mb_used': 'sum'}).reset_index()\n",
    "internet_grouped.sample(10)\n",
    "internet_grouped[internet_grouped['user_id']==1021]"
   ]
  },
  {
   "cell_type": "markdown",
   "metadata": {},
   "source": [
    "Сделала сводную таблицу для internet,посчитала объем,используемых МБ."
   ]
  },
  {
   "cell_type": "code",
   "execution_count": 13,
   "metadata": {
    "scrolled": true
   },
   "outputs": [
    {
     "data": {
      "text/html": [
       "<div>\n",
       "<style scoped>\n",
       "    .dataframe tbody tr th:only-of-type {\n",
       "        vertical-align: middle;\n",
       "    }\n",
       "\n",
       "    .dataframe tbody tr th {\n",
       "        vertical-align: top;\n",
       "    }\n",
       "\n",
       "    .dataframe thead th {\n",
       "        text-align: right;\n",
       "    }\n",
       "</style>\n",
       "<table border=\"1\" class=\"dataframe\">\n",
       "  <thead>\n",
       "    <tr style=\"text-align: right;\">\n",
       "      <th></th>\n",
       "      <th>user_id</th>\n",
       "      <th>month</th>\n",
       "      <th>count_of_messages</th>\n",
       "    </tr>\n",
       "  </thead>\n",
       "  <tbody>\n",
       "    <tr>\n",
       "      <td>609</td>\n",
       "      <td>1111</td>\n",
       "      <td>11</td>\n",
       "      <td>2</td>\n",
       "    </tr>\n",
       "    <tr>\n",
       "      <td>610</td>\n",
       "      <td>1111</td>\n",
       "      <td>12</td>\n",
       "      <td>4</td>\n",
       "    </tr>\n",
       "  </tbody>\n",
       "</table>\n",
       "</div>"
      ],
      "text/plain": [
       "     user_id  month  count_of_messages\n",
       "609     1111     11                  2\n",
       "610     1111     12                  4"
      ]
     },
     "execution_count": 13,
     "metadata": {},
     "output_type": "execute_result"
    }
   ],
   "source": [
    "messages_grouped = messages.groupby(['user_id', 'month']).agg({'id': 'count'}).reset_index()\n",
    "messages_grouped.sample(10)\n",
    "messages_grouped.columns = ['user_id', 'month','count_of_messages']\n",
    "messages_grouped[messages_grouped['user_id']==1111]\n"
   ]
  },
  {
   "cell_type": "markdown",
   "metadata": {},
   "source": [
    "Сделала сводную таблицу для messages, посчитала кол-во смс-сообщений."
   ]
  },
  {
   "cell_type": "markdown",
   "metadata": {},
   "source": [
    "####  Объединение таблиц"
   ]
  },
  {
   "cell_type": "code",
   "execution_count": 14,
   "metadata": {},
   "outputs": [],
   "source": [
    "df=calls_grouped.merge(internet_grouped,on=['user_id','month'],how='outer').merge(messages_grouped, on=['user_id','month'],how='outer').fillna(0)\n",
    "\n",
    "df=df.merge(users,on='user_id',how='left').merge(tariffs,left_on='tariff',right_on='tariff_name',how='left')"
   ]
  },
  {
   "cell_type": "markdown",
   "metadata": {},
   "source": [
    "Объединила таблицы users, сгрупированные calls_grouped,internet_grouped,messages_grouped. Также добавила в объединение таблицу tariff.Получила один датафрейм df."
   ]
  },
  {
   "cell_type": "code",
   "execution_count": 15,
   "metadata": {},
   "outputs": [
    {
     "data": {
      "text/plain": [
       "user_id                  0.000000\n",
       "month                    0.000000\n",
       "duration_of_calls        0.000000\n",
       "count_of_calls           0.000000\n",
       "mb_used                  0.000000\n",
       "count_of_messages        0.000000\n",
       "age                      0.000000\n",
       "churn_date               0.941817\n",
       "city                     0.000000\n",
       "first_name               0.000000\n",
       "last_name                0.000000\n",
       "reg_date                 0.000000\n",
       "tariff                   0.000000\n",
       "messages_included        0.000000\n",
       "mb_per_month_included    0.000000\n",
       "minutes_included         0.000000\n",
       "rub_monthly_fee          0.000000\n",
       "rub_per_gb               0.000000\n",
       "rub_per_message          0.000000\n",
       "rub_per_minute           0.000000\n",
       "tariff_name              0.000000\n",
       "dtype: float64"
      ]
     },
     "execution_count": 15,
     "metadata": {},
     "output_type": "execute_result"
    }
   ],
   "source": [
    "df.isna().mean()\n",
    "# df['duration_of_calls'] = df['duration_of_calls'].fillna(0)\n",
    "# df['count_of_calls'] = df['count_of_calls'].fillna(0)\n",
    "# df['mb_used'] = df['mb_used'].fillna(0)\n",
    "# df['count_of_messages'] = df['count_of_messages'].fillna(0)\n",
    "# df = df.dropna(subset=['month','age'])\n",
    "# df.isna().mean()"
   ]
  },
  {
   "cell_type": "markdown",
   "metadata": {},
   "source": [
    "После объединения в датасесте df образовались пропуски. Часть из них-те строки, где отсутсвовала практически вся информация, их было 40, я полностью удалила.Также удалила 8 строк с пропущенными значениями в столбце 'month'\n",
    "\n",
    "Другие пропуски, которые присутствовали лишь частично в некоторых столбцах заменила на 0.Таких строк было 48.   "
   ]
  },
  {
   "cell_type": "markdown",
   "metadata": {},
   "source": [
    "<font color='purple'> Объединила таблицы более лучшим способом, при котором пропусков в данных не возникло. </font>"
   ]
  },
  {
   "cell_type": "markdown",
   "metadata": {},
   "source": [
    "####  Вычисление данных для каждого пользователя."
   ]
  },
  {
   "cell_type": "code",
   "execution_count": 16,
   "metadata": {},
   "outputs": [
    {
     "data": {
      "text/html": [
       "<div>\n",
       "<style scoped>\n",
       "    .dataframe tbody tr th:only-of-type {\n",
       "        vertical-align: middle;\n",
       "    }\n",
       "\n",
       "    .dataframe tbody tr th {\n",
       "        vertical-align: top;\n",
       "    }\n",
       "\n",
       "    .dataframe thead th {\n",
       "        text-align: right;\n",
       "    }\n",
       "</style>\n",
       "<table border=\"1\" class=\"dataframe\">\n",
       "  <thead>\n",
       "    <tr style=\"text-align: right;\">\n",
       "      <th></th>\n",
       "      <th>user_id</th>\n",
       "      <th>month</th>\n",
       "      <th>duration_of_calls</th>\n",
       "      <th>count_of_calls</th>\n",
       "      <th>mb_used</th>\n",
       "      <th>count_of_messages</th>\n",
       "      <th>age</th>\n",
       "      <th>churn_date</th>\n",
       "      <th>city</th>\n",
       "      <th>first_name</th>\n",
       "      <th>last_name</th>\n",
       "      <th>reg_date</th>\n",
       "      <th>tariff</th>\n",
       "      <th>messages_included</th>\n",
       "      <th>mb_per_month_included</th>\n",
       "      <th>minutes_included</th>\n",
       "      <th>rub_monthly_fee</th>\n",
       "      <th>rub_per_gb</th>\n",
       "      <th>rub_per_message</th>\n",
       "      <th>rub_per_minute</th>\n",
       "      <th>tariff_name</th>\n",
       "    </tr>\n",
       "  </thead>\n",
       "  <tbody>\n",
       "    <tr>\n",
       "      <td>2575</td>\n",
       "      <td>1405</td>\n",
       "      <td>11</td>\n",
       "      <td>348.0</td>\n",
       "      <td>42.0</td>\n",
       "      <td>12787.0</td>\n",
       "      <td>67.0</td>\n",
       "      <td>54</td>\n",
       "      <td>NaN</td>\n",
       "      <td>Набережные Челны</td>\n",
       "      <td>Элина</td>\n",
       "      <td>Белова</td>\n",
       "      <td>2018-10-08</td>\n",
       "      <td>ultra</td>\n",
       "      <td>1000</td>\n",
       "      <td>30720</td>\n",
       "      <td>3000</td>\n",
       "      <td>1950</td>\n",
       "      <td>150</td>\n",
       "      <td>1</td>\n",
       "      <td>1</td>\n",
       "      <td>ultra</td>\n",
       "    </tr>\n",
       "    <tr>\n",
       "      <td>1467</td>\n",
       "      <td>1234</td>\n",
       "      <td>12</td>\n",
       "      <td>863.0</td>\n",
       "      <td>113.0</td>\n",
       "      <td>28530.0</td>\n",
       "      <td>91.0</td>\n",
       "      <td>54</td>\n",
       "      <td>NaN</td>\n",
       "      <td>Магнитогорск</td>\n",
       "      <td>Роксана</td>\n",
       "      <td>Алексеева</td>\n",
       "      <td>2018-12-19</td>\n",
       "      <td>ultra</td>\n",
       "      <td>1000</td>\n",
       "      <td>30720</td>\n",
       "      <td>3000</td>\n",
       "      <td>1950</td>\n",
       "      <td>150</td>\n",
       "      <td>1</td>\n",
       "      <td>1</td>\n",
       "      <td>ultra</td>\n",
       "    </tr>\n",
       "  </tbody>\n",
       "</table>\n",
       "</div>"
      ],
      "text/plain": [
       "      user_id  month  duration_of_calls  count_of_calls  mb_used  \\\n",
       "2575     1405     11              348.0            42.0  12787.0   \n",
       "1467     1234     12              863.0           113.0  28530.0   \n",
       "\n",
       "      count_of_messages  age churn_date              city first_name  \\\n",
       "2575               67.0   54        NaN  Набережные Челны      Элина   \n",
       "1467               91.0   54        NaN      Магнитогорск    Роксана   \n",
       "\n",
       "      last_name    reg_date tariff  messages_included  mb_per_month_included  \\\n",
       "2575     Белова  2018-10-08  ultra               1000                  30720   \n",
       "1467  Алексеева  2018-12-19  ultra               1000                  30720   \n",
       "\n",
       "      minutes_included  rub_monthly_fee  rub_per_gb  rub_per_message  \\\n",
       "2575              3000             1950         150                1   \n",
       "1467              3000             1950         150                1   \n",
       "\n",
       "      rub_per_minute tariff_name  \n",
       "2575               1       ultra  \n",
       "1467               1       ultra  "
      ]
     },
     "execution_count": 16,
     "metadata": {},
     "output_type": "execute_result"
    }
   ],
   "source": [
    "pd.set_option('display.max_columns', None)\n",
    "df.sample(2)"
   ]
  },
  {
   "cell_type": "markdown",
   "metadata": {},
   "source": [
    "•\tколичество сделанных звонков и израсходованных минут разговора по месяцам в столбцах **duration_of_calls** и **count_of_calls** соответственно;\n",
    "\n",
    "•\tколичество отправленных сообщений по месяцам в столбце **count_of_messages**;\n",
    "\n",
    "•\tобъем израсходованного интернет-трафика по месяцам в столбце **mb_used**;"
   ]
  },
  {
   "cell_type": "code",
   "execution_count": 17,
   "metadata": {},
   "outputs": [],
   "source": [
    "df['calls_over'] = df['duration_of_calls'] - df['minutes_included']\n",
    "df.loc[df['calls_over'] < 0, 'calls_over'] = 0\n",
    "df['month_revenue_calls'] = df['calls_over']*df['rub_per_minute']"
   ]
  },
  {
   "cell_type": "code",
   "execution_count": 18,
   "metadata": {},
   "outputs": [],
   "source": [
    "df['messages_over'] = (df['count_of_messages'] - df['messages_included'])\n",
    "df.loc[df['messages_over'] < 0, 'messages_over'] = 0\n",
    "df['month_revenue_messages'] = df['messages_over']*df['rub_per_message']"
   ]
  },
  {
   "cell_type": "code",
   "execution_count": 19,
   "metadata": {},
   "outputs": [],
   "source": [
    "df['internet_over'] = (df['mb_used'] - df['mb_per_month_included']) / 1024\n",
    "df.loc[df['internet_over'] < 0, 'internet_over'] = 0\n",
    "df['internet_over'] = np.ceil(df['internet_over'])\n",
    "df['month_revenue_internet'] = df['internet_over']*df['rub_per_gb']"
   ]
  },
  {
   "cell_type": "markdown",
   "metadata": {},
   "source": [
    "<font color='purple'> Округлила перерасход трафика вверх. </font>"
   ]
  },
  {
   "cell_type": "code",
   "execution_count": 20,
   "metadata": {},
   "outputs": [],
   "source": [
    "df['month_over'] = df['month_revenue_calls'] + df['month_revenue_messages'] + df['month_revenue_internet']"
   ]
  },
  {
   "cell_type": "code",
   "execution_count": 21,
   "metadata": {},
   "outputs": [],
   "source": [
    "df['month_revenue'] = df['month_over'] + df['rub_monthly_fee']"
   ]
  },
  {
   "cell_type": "code",
   "execution_count": 22,
   "metadata": {},
   "outputs": [
    {
     "data": {
      "text/html": [
       "<div>\n",
       "<style scoped>\n",
       "    .dataframe tbody tr th:only-of-type {\n",
       "        vertical-align: middle;\n",
       "    }\n",
       "\n",
       "    .dataframe tbody tr th {\n",
       "        vertical-align: top;\n",
       "    }\n",
       "\n",
       "    .dataframe thead th {\n",
       "        text-align: right;\n",
       "    }\n",
       "</style>\n",
       "<table border=\"1\" class=\"dataframe\">\n",
       "  <thead>\n",
       "    <tr style=\"text-align: right;\">\n",
       "      <th></th>\n",
       "      <th>user_id</th>\n",
       "      <th>month</th>\n",
       "      <th>duration_of_calls</th>\n",
       "      <th>count_of_calls</th>\n",
       "      <th>mb_used</th>\n",
       "      <th>count_of_messages</th>\n",
       "      <th>churn_date</th>\n",
       "      <th>city</th>\n",
       "      <th>reg_date</th>\n",
       "      <th>tariff</th>\n",
       "      <th>calls_over</th>\n",
       "      <th>month_revenue_calls</th>\n",
       "      <th>messages_over</th>\n",
       "      <th>month_revenue_messages</th>\n",
       "      <th>internet_over</th>\n",
       "      <th>month_revenue_internet</th>\n",
       "      <th>month_over</th>\n",
       "      <th>month_revenue</th>\n",
       "    </tr>\n",
       "  </thead>\n",
       "  <tbody>\n",
       "    <tr>\n",
       "      <td>965</td>\n",
       "      <td>1155</td>\n",
       "      <td>3</td>\n",
       "      <td>414.0</td>\n",
       "      <td>58.0</td>\n",
       "      <td>15635.0</td>\n",
       "      <td>48.0</td>\n",
       "      <td>NaN</td>\n",
       "      <td>Ставрополь</td>\n",
       "      <td>2018-01-02</td>\n",
       "      <td>smart</td>\n",
       "      <td>0.0</td>\n",
       "      <td>0.0</td>\n",
       "      <td>0.0</td>\n",
       "      <td>0.0</td>\n",
       "      <td>1.0</td>\n",
       "      <td>200.0</td>\n",
       "      <td>200</td>\n",
       "      <td>750</td>\n",
       "    </tr>\n",
       "  </tbody>\n",
       "</table>\n",
       "</div>"
      ],
      "text/plain": [
       "     user_id  month  duration_of_calls  count_of_calls  mb_used  \\\n",
       "965     1155      3              414.0            58.0  15635.0   \n",
       "\n",
       "     count_of_messages churn_date        city    reg_date tariff  calls_over  \\\n",
       "965               48.0        NaN  Ставрополь  2018-01-02  smart         0.0   \n",
       "\n",
       "     month_revenue_calls  messages_over  month_revenue_messages  \\\n",
       "965                  0.0            0.0                     0.0   \n",
       "\n",
       "     internet_over  month_revenue_internet  month_over  month_revenue  \n",
       "965            1.0                   200.0         200            750  "
      ]
     },
     "execution_count": 22,
     "metadata": {},
     "output_type": "execute_result"
    }
   ],
   "source": [
    "df['month_revenue']=df['month_revenue'].astype(int)\n",
    "df['month_over']=df['month_over'].astype(int)\n",
    "df.sample(5)\n",
    "df=df.drop(['age','first_name','last_name','messages_included','mb_per_month_included','minutes_included','rub_monthly_fee', 'rub_per_gb','rub_per_message','rub_per_minute','tariff_name'],axis=1)\n",
    "df.sample()"
   ]
  },
  {
   "cell_type": "markdown",
   "metadata": {},
   "source": [
    "<font color='purple'>Сделала выручку целочисленным показателем.Удалила лишние столбцы из датасета.</font>"
   ]
  },
  {
   "cell_type": "markdown",
   "metadata": {},
   "source": [
    "Помесячная выручка с каждого пользователя в столбце **month_revenue**\n",
    "\n"
   ]
  },
  {
   "cell_type": "markdown",
   "metadata": {},
   "source": [
    "### Проанализируйте данные"
   ]
  },
  {
   "cell_type": "markdown",
   "metadata": {},
   "source": [
    "Опишите поведение клиентов оператора, исходя из выборки. Сколько минут разговора, сколько сообщений и какой объём интернет-трафика требуется пользователям каждого тарифа в месяц? Посчитайте среднее количество, дисперсию и стандартное отклонение. Постройте гистограммы. Опишите распределения."
   ]
  },
  {
   "cell_type": "code",
   "execution_count": 23,
   "metadata": {},
   "outputs": [
    {
     "data": {
      "text/plain": [
       "985"
      ]
     },
     "metadata": {},
     "output_type": "display_data"
    },
    {
     "data": {
      "text/plain": [
       "2229"
      ]
     },
     "execution_count": 23,
     "metadata": {},
     "output_type": "execute_result"
    }
   ],
   "source": [
    "df_ultra = df.query('tariff == \"ultra\"')\n",
    "display(len(df_ultra))\n",
    "df_smart = df.query('tariff == \"smart\"')\n",
    "len(df_smart)"
   ]
  },
  {
   "cell_type": "markdown",
   "metadata": {},
   "source": [
    "Создала два датафрейма в одном пользователи тарифа 'Ультра', в другом тарифа 'Смарт'"
   ]
  },
  {
   "cell_type": "code",
   "execution_count": 24,
   "metadata": {},
   "outputs": [
    {
     "data": {
      "text/html": [
       "<div>\n",
       "<style scoped>\n",
       "    .dataframe tbody tr th:only-of-type {\n",
       "        vertical-align: middle;\n",
       "    }\n",
       "\n",
       "    .dataframe tbody tr th {\n",
       "        vertical-align: top;\n",
       "    }\n",
       "\n",
       "    .dataframe thead th {\n",
       "        text-align: right;\n",
       "    }\n",
       "</style>\n",
       "<table border=\"1\" class=\"dataframe\">\n",
       "  <thead>\n",
       "    <tr style=\"text-align: right;\">\n",
       "      <th></th>\n",
       "      <th>count_of_messages</th>\n",
       "      <th>duration_of_calls</th>\n",
       "      <th>mb_used</th>\n",
       "      <th>month_over</th>\n",
       "      <th>month_revenue</th>\n",
       "    </tr>\n",
       "    <tr>\n",
       "      <th>month</th>\n",
       "      <th></th>\n",
       "      <th></th>\n",
       "      <th></th>\n",
       "      <th></th>\n",
       "      <th></th>\n",
       "    </tr>\n",
       "  </thead>\n",
       "  <tbody>\n",
       "    <tr>\n",
       "      <td>1</td>\n",
       "      <td>620.0</td>\n",
       "      <td>7128.0</td>\n",
       "      <td>289972.0</td>\n",
       "      <td>5894</td>\n",
       "      <td>24594</td>\n",
       "    </tr>\n",
       "    <tr>\n",
       "      <td>2</td>\n",
       "      <td>1397.0</td>\n",
       "      <td>17766.0</td>\n",
       "      <td>673806.0</td>\n",
       "      <td>16533</td>\n",
       "      <td>48433</td>\n",
       "    </tr>\n",
       "    <tr>\n",
       "      <td>3</td>\n",
       "      <td>2453.0</td>\n",
       "      <td>30841.0</td>\n",
       "      <td>1165103.0</td>\n",
       "      <td>48400</td>\n",
       "      <td>90750</td>\n",
       "    </tr>\n",
       "    <tr>\n",
       "      <td>4</td>\n",
       "      <td>3443.0</td>\n",
       "      <td>42224.0</td>\n",
       "      <td>1510441.0</td>\n",
       "      <td>47586</td>\n",
       "      <td>109186</td>\n",
       "    </tr>\n",
       "    <tr>\n",
       "      <td>5</td>\n",
       "      <td>4762.0</td>\n",
       "      <td>56175.0</td>\n",
       "      <td>2232418.0</td>\n",
       "      <td>94344</td>\n",
       "      <td>171894</td>\n",
       "    </tr>\n",
       "    <tr>\n",
       "      <td>6</td>\n",
       "      <td>5478.0</td>\n",
       "      <td>66699.0</td>\n",
       "      <td>2594881.0</td>\n",
       "      <td>110560</td>\n",
       "      <td>200760</td>\n",
       "    </tr>\n",
       "    <tr>\n",
       "      <td>7</td>\n",
       "      <td>6784.0</td>\n",
       "      <td>84277.0</td>\n",
       "      <td>3170051.0</td>\n",
       "      <td>139991</td>\n",
       "      <td>250541</td>\n",
       "    </tr>\n",
       "    <tr>\n",
       "      <td>8</td>\n",
       "      <td>7905.0</td>\n",
       "      <td>101800.0</td>\n",
       "      <td>3910450.0</td>\n",
       "      <td>187289</td>\n",
       "      <td>316539</td>\n",
       "    </tr>\n",
       "    <tr>\n",
       "      <td>9</td>\n",
       "      <td>8746.0</td>\n",
       "      <td>114421.0</td>\n",
       "      <td>4246480.0</td>\n",
       "      <td>188370</td>\n",
       "      <td>331370</td>\n",
       "    </tr>\n",
       "    <tr>\n",
       "      <td>10</td>\n",
       "      <td>9927.0</td>\n",
       "      <td>128859.0</td>\n",
       "      <td>4935335.0</td>\n",
       "      <td>246617</td>\n",
       "      <td>408317</td>\n",
       "    </tr>\n",
       "    <tr>\n",
       "      <td>11</td>\n",
       "      <td>10768.0</td>\n",
       "      <td>141448.0</td>\n",
       "      <td>5348604.0</td>\n",
       "      <td>258171</td>\n",
       "      <td>431971</td>\n",
       "    </tr>\n",
       "    <tr>\n",
       "      <td>12</td>\n",
       "      <td>12130.0</td>\n",
       "      <td>165608.0</td>\n",
       "      <td>6115143.0</td>\n",
       "      <td>355885</td>\n",
       "      <td>541235</td>\n",
       "    </tr>\n",
       "  </tbody>\n",
       "</table>\n",
       "</div>"
      ],
      "text/plain": [
       "       count_of_messages  duration_of_calls    mb_used  month_over  \\\n",
       "month                                                                \n",
       "1                  620.0             7128.0   289972.0        5894   \n",
       "2                 1397.0            17766.0   673806.0       16533   \n",
       "3                 2453.0            30841.0  1165103.0       48400   \n",
       "4                 3443.0            42224.0  1510441.0       47586   \n",
       "5                 4762.0            56175.0  2232418.0       94344   \n",
       "6                 5478.0            66699.0  2594881.0      110560   \n",
       "7                 6784.0            84277.0  3170051.0      139991   \n",
       "8                 7905.0           101800.0  3910450.0      187289   \n",
       "9                 8746.0           114421.0  4246480.0      188370   \n",
       "10                9927.0           128859.0  4935335.0      246617   \n",
       "11               10768.0           141448.0  5348604.0      258171   \n",
       "12               12130.0           165608.0  6115143.0      355885   \n",
       "\n",
       "       month_revenue  \n",
       "month                 \n",
       "1              24594  \n",
       "2              48433  \n",
       "3              90750  \n",
       "4             109186  \n",
       "5             171894  \n",
       "6             200760  \n",
       "7             250541  \n",
       "8             316539  \n",
       "9             331370  \n",
       "10            408317  \n",
       "11            431971  \n",
       "12            541235  "
      ]
     },
     "execution_count": 24,
     "metadata": {},
     "output_type": "execute_result"
    }
   ],
   "source": [
    "values = ['duration_of_calls','count_of_messages','mb_used','month_revenue','month_over']\n",
    "month_values = df.pivot_table(\n",
    "    index=['tariff', 'month'],\n",
    "    values=values,aggfunc='sum'\n",
    ")\n",
    "df_month = month_values.loc['smart']\n",
    "df_month"
   ]
  },
  {
   "cell_type": "markdown",
   "metadata": {},
   "source": [
    "Количество сообщений,количество минут разговоров, использованный интернет-трафик и выручка для тарифа 'Смарт'  по месяцам."
   ]
  },
  {
   "cell_type": "code",
   "execution_count": 25,
   "metadata": {},
   "outputs": [
    {
     "data": {
      "text/html": [
       "<div>\n",
       "<style scoped>\n",
       "    .dataframe tbody tr th:only-of-type {\n",
       "        vertical-align: middle;\n",
       "    }\n",
       "\n",
       "    .dataframe tbody tr th {\n",
       "        vertical-align: top;\n",
       "    }\n",
       "\n",
       "    .dataframe thead th {\n",
       "        text-align: right;\n",
       "    }\n",
       "</style>\n",
       "<table border=\"1\" class=\"dataframe\">\n",
       "  <thead>\n",
       "    <tr style=\"text-align: right;\">\n",
       "      <th></th>\n",
       "      <th>count_of_messages</th>\n",
       "      <th>duration_of_calls</th>\n",
       "      <th>mb_used</th>\n",
       "      <th>month_over</th>\n",
       "      <th>month_revenue</th>\n",
       "    </tr>\n",
       "    <tr>\n",
       "      <th>month</th>\n",
       "      <th></th>\n",
       "      <th></th>\n",
       "      <th></th>\n",
       "      <th></th>\n",
       "      <th></th>\n",
       "    </tr>\n",
       "  </thead>\n",
       "  <tbody>\n",
       "    <tr>\n",
       "      <td>1</td>\n",
       "      <td>304.0</td>\n",
       "      <td>3968.0</td>\n",
       "      <td>118392.0</td>\n",
       "      <td>0</td>\n",
       "      <td>17550</td>\n",
       "    </tr>\n",
       "    <tr>\n",
       "      <td>2</td>\n",
       "      <td>527.0</td>\n",
       "      <td>7312.0</td>\n",
       "      <td>282920.0</td>\n",
       "      <td>600</td>\n",
       "      <td>47400</td>\n",
       "    </tr>\n",
       "    <tr>\n",
       "      <td>3</td>\n",
       "      <td>1195.0</td>\n",
       "      <td>18614.0</td>\n",
       "      <td>649480.0</td>\n",
       "      <td>2400</td>\n",
       "      <td>74550</td>\n",
       "    </tr>\n",
       "    <tr>\n",
       "      <td>4</td>\n",
       "      <td>1736.0</td>\n",
       "      <td>25854.0</td>\n",
       "      <td>926489.0</td>\n",
       "      <td>2850</td>\n",
       "      <td>110100</td>\n",
       "    </tr>\n",
       "    <tr>\n",
       "      <td>5</td>\n",
       "      <td>2536.0</td>\n",
       "      <td>35166.0</td>\n",
       "      <td>1298674.0</td>\n",
       "      <td>7500</td>\n",
       "      <td>138150</td>\n",
       "    </tr>\n",
       "    <tr>\n",
       "      <td>6</td>\n",
       "      <td>3505.0</td>\n",
       "      <td>41364.0</td>\n",
       "      <td>1591290.0</td>\n",
       "      <td>7650</td>\n",
       "      <td>171450</td>\n",
       "    </tr>\n",
       "    <tr>\n",
       "      <td>7</td>\n",
       "      <td>4536.0</td>\n",
       "      <td>50987.0</td>\n",
       "      <td>1867008.0</td>\n",
       "      <td>15600</td>\n",
       "      <td>193050</td>\n",
       "    </tr>\n",
       "    <tr>\n",
       "      <td>8</td>\n",
       "      <td>5183.0</td>\n",
       "      <td>56129.0</td>\n",
       "      <td>2096759.0</td>\n",
       "      <td>14250</td>\n",
       "      <td>222900</td>\n",
       "    </tr>\n",
       "    <tr>\n",
       "      <td>9</td>\n",
       "      <td>6013.0</td>\n",
       "      <td>63669.0</td>\n",
       "      <td>2210765.0</td>\n",
       "      <td>8550</td>\n",
       "      <td>232800</td>\n",
       "    </tr>\n",
       "    <tr>\n",
       "      <td>10</td>\n",
       "      <td>7187.0</td>\n",
       "      <td>70458.0</td>\n",
       "      <td>2468061.0</td>\n",
       "      <td>14400</td>\n",
       "      <td>254250</td>\n",
       "    </tr>\n",
       "    <tr>\n",
       "      <td>11</td>\n",
       "      <td>7476.0</td>\n",
       "      <td>74478.0</td>\n",
       "      <td>2654155.0</td>\n",
       "      <td>19200</td>\n",
       "      <td>280500</td>\n",
       "    </tr>\n",
       "    <tr>\n",
       "      <td>12</td>\n",
       "      <td>8425.0</td>\n",
       "      <td>84669.0</td>\n",
       "      <td>3032380.0</td>\n",
       "      <td>26250</td>\n",
       "      <td>297300</td>\n",
       "    </tr>\n",
       "  </tbody>\n",
       "</table>\n",
       "</div>"
      ],
      "text/plain": [
       "       count_of_messages  duration_of_calls    mb_used  month_over  \\\n",
       "month                                                                \n",
       "1                  304.0             3968.0   118392.0           0   \n",
       "2                  527.0             7312.0   282920.0         600   \n",
       "3                 1195.0            18614.0   649480.0        2400   \n",
       "4                 1736.0            25854.0   926489.0        2850   \n",
       "5                 2536.0            35166.0  1298674.0        7500   \n",
       "6                 3505.0            41364.0  1591290.0        7650   \n",
       "7                 4536.0            50987.0  1867008.0       15600   \n",
       "8                 5183.0            56129.0  2096759.0       14250   \n",
       "9                 6013.0            63669.0  2210765.0        8550   \n",
       "10                7187.0            70458.0  2468061.0       14400   \n",
       "11                7476.0            74478.0  2654155.0       19200   \n",
       "12                8425.0            84669.0  3032380.0       26250   \n",
       "\n",
       "       month_revenue  \n",
       "month                 \n",
       "1              17550  \n",
       "2              47400  \n",
       "3              74550  \n",
       "4             110100  \n",
       "5             138150  \n",
       "6             171450  \n",
       "7             193050  \n",
       "8             222900  \n",
       "9             232800  \n",
       "10            254250  \n",
       "11            280500  \n",
       "12            297300  "
      ]
     },
     "execution_count": 25,
     "metadata": {},
     "output_type": "execute_result"
    }
   ],
   "source": [
    "values = ['duration_of_calls','count_of_messages','mb_used','month_revenue','month_over']\n",
    "month_values = df.pivot_table(\n",
    "    index=['tariff', 'month'],\n",
    "    values=values, aggfunc='sum'\n",
    ")\n",
    "df_month = month_values.loc['ultra']\n",
    "df_month"
   ]
  },
  {
   "cell_type": "markdown",
   "metadata": {},
   "source": [
    "Количество сообщений,количество минут разговоров, использованный интернет-трафик и выручка для тарифа 'Ультра' по месяцам."
   ]
  },
  {
   "cell_type": "code",
   "execution_count": 26,
   "metadata": {},
   "outputs": [
    {
     "data": {
      "text/html": [
       "<div>\n",
       "<style scoped>\n",
       "    .dataframe tbody tr th:only-of-type {\n",
       "        vertical-align: middle;\n",
       "    }\n",
       "\n",
       "    .dataframe tbody tr th {\n",
       "        vertical-align: top;\n",
       "    }\n",
       "\n",
       "    .dataframe thead th {\n",
       "        text-align: right;\n",
       "    }\n",
       "</style>\n",
       "<table border=\"1\" class=\"dataframe\">\n",
       "  <thead>\n",
       "    <tr style=\"text-align: right;\">\n",
       "      <th></th>\n",
       "      <th>count_of_messages</th>\n",
       "      <th>duration_of_calls</th>\n",
       "      <th>mb_used</th>\n",
       "      <th>month_over</th>\n",
       "      <th>month_revenue</th>\n",
       "    </tr>\n",
       "    <tr>\n",
       "      <th>tariff</th>\n",
       "      <th></th>\n",
       "      <th></th>\n",
       "      <th></th>\n",
       "      <th></th>\n",
       "      <th></th>\n",
       "    </tr>\n",
       "  </thead>\n",
       "  <tbody>\n",
       "    <tr>\n",
       "      <td>smart</td>\n",
       "      <td>31.413211</td>\n",
       "      <td>397.374228</td>\n",
       "      <td>15085.107080</td>\n",
       "      <td>648.743306</td>\n",
       "      <td>1198.743306</td>\n",
       "    </tr>\n",
       "    <tr>\n",
       "      <td>ultra</td>\n",
       "      <td>43.714983</td>\n",
       "      <td>509.356551</td>\n",
       "      <td>18224.477581</td>\n",
       "      <td>97.737868</td>\n",
       "      <td>2047.737868</td>\n",
       "    </tr>\n",
       "  </tbody>\n",
       "</table>\n",
       "</div>"
      ],
      "text/plain": [
       "        count_of_messages  duration_of_calls       mb_used  month_over  \\\n",
       "tariff                                                                   \n",
       "smart           31.413211         397.374228  15085.107080  648.743306   \n",
       "ultra           43.714983         509.356551  18224.477581   97.737868   \n",
       "\n",
       "        month_revenue  \n",
       "tariff                 \n",
       "smart     1198.743306  \n",
       "ultra     2047.737868  "
      ]
     },
     "execution_count": 26,
     "metadata": {},
     "output_type": "execute_result"
    }
   ],
   "source": [
    "month_values_one = df.pivot_table(\n",
    "    index=['tariff', 'month'],\n",
    "    values=values,\n",
    ")\n",
    "\n",
    "t = month_values_one.pivot_table(\n",
    "    index='tariff',\n",
    "    values=values\n",
    ")\n",
    "t"
   ]
  },
  {
   "cell_type": "markdown",
   "metadata": {},
   "source": [
    "Количество сообщений,количество минут разговоров, использованный интернет-трафик и выручка в среднем необходимые пользователям каждого тарифа в месяц.\n",
    "\n",
    "Исходя из данных больше дохода приносит тариф 'Ультра'. Пользователи тарифа 'Смарт' тратят горазда больше денег на услуги сверх тарифного плана."
   ]
  },
  {
   "cell_type": "code",
   "execution_count": 27,
   "metadata": {},
   "outputs": [
    {
     "data": {
      "image/png": "[encoded data removed]",
      "text/plain": [
       "<Figure size 432x288 with 1 Axes>"
      ]
     },
     "metadata": {
      "needs_background": "light"
     },
     "output_type": "display_data"
    }
   ],
   "source": [
    "plt.hist(df_smart['duration_of_calls'], bins=10, label='smart')\n",
    "plt.hist(df_ultra['duration_of_calls'], bins=10, label='ultra',alpha = 0.4)\n",
    "plt.xlabel('количество минут')\n",
    "plt.ylabel('количество пользователей')\n",
    "plt.title('Распределение пользователей в зависимости от минут разговора')\n",
    "plt.show()"
   ]
  },
  {
   "cell_type": "markdown",
   "metadata": {},
   "source": [
    "Из распределения гистограммы видно, что пользователей тарифа 'Смарт' больше,но минут тратят больше пользователи тарифа 'Ультра'"
   ]
  },
  {
   "cell_type": "code",
   "execution_count": 28,
   "metadata": {},
   "outputs": [
    {
     "data": {
      "image/png": "[encoded data removed]",
      "text/plain": [
       "<Figure size 432x288 with 1 Axes>"
      ]
     },
     "metadata": {
      "needs_background": "light"
     },
     "output_type": "display_data"
    }
   ],
   "source": [
    "plt.hist(df_smart['count_of_messages'], bins=50, label='smart')\n",
    "plt.hist(df_ultra['count_of_messages'], bins=50, label='ultra', alpha=0.4)\n",
    "plt.xlabel('количество сообщений')\n",
    "plt.ylabel('количество пользователей')\n",
    "plt.title('Распределение количества пользователей в зависимости от количества сообщений')\n",
    "plt.show()"
   ]
  },
  {
   "cell_type": "markdown",
   "metadata": {},
   "source": [
    "Из распределения гистограммы видно, что пользователей тарифа 'Смарт' больше,но смс используют больше пользователи тарифа 'Ультра'"
   ]
  },
  {
   "cell_type": "code",
   "execution_count": 29,
   "metadata": {},
   "outputs": [
    {
     "data": {
      "image/png": "[encoded data removed]",
      "text/plain": [
       "<Figure size 432x288 with 1 Axes>"
      ]
     },
     "metadata": {
      "needs_background": "light"
     },
     "output_type": "display_data"
    }
   ],
   "source": [
    "plt.hist(df_smart['mb_used'], bins=50, label='smart')\n",
    "plt.hist(df_ultra['mb_used'], bins=50, label='ultra', alpha=0.4)\n",
    "plt.xlabel('количество трафика')\n",
    "plt.ylabel('количество пользователей')\n",
    "plt.title('Распределение количества пользователей в зависимости от количества трафика')\n",
    "plt.show()"
   ]
  },
  {
   "cell_type": "markdown",
   "metadata": {},
   "source": [
    "Из распределения гистограммы видно, что пользователей тарифа 'Смарт' больше,но интернет-трафика используют больше пользователи тарифа 'Ультра'"
   ]
  },
  {
   "cell_type": "code",
   "execution_count": 30,
   "metadata": {},
   "outputs": [
    {
     "data": {
      "text/plain": [
       "duration_of_calls    1.061057e+05\n",
       "count_of_messages    2.285266e+03\n",
       "mb_used              1.019516e+08\n",
       "month_revenue        1.434912e+05\n",
       "dtype: float64"
      ]
     },
     "metadata": {},
     "output_type": "display_data"
    },
    {
     "data": {
      "text/html": [
       "<style  type=\"text/css\" >\n",
       "</style><table id=\"T_ed3317c6_7990_11eb_84af_02420a39cb2f\" ><thead>    <tr>        <th class=\"blank level0\" ></th>        <th class=\"col_heading level0 col0\" >duration_of_calls</th>        <th class=\"col_heading level0 col1\" >count_of_messages</th>        <th class=\"col_heading level0 col2\" >mb_used</th>    </tr></thead><tbody>\n",
       "                <tr>\n",
       "                        <th id=\"T_ed3317c6_7990_11eb_84af_02420a39cb2flevel0_row0\" class=\"row_heading level0 row0\" >count</th>\n",
       "                        <td id=\"T_ed3317c6_7990_11eb_84af_02420a39cb2frow0_col0\" class=\"data row0 col0\" >985.00</td>\n",
       "                        <td id=\"T_ed3317c6_7990_11eb_84af_02420a39cb2frow0_col1\" class=\"data row0 col1\" >985.00</td>\n",
       "                        <td id=\"T_ed3317c6_7990_11eb_84af_02420a39cb2frow0_col2\" class=\"data row0 col2\" >985.00</td>\n",
       "            </tr>\n",
       "            <tr>\n",
       "                        <th id=\"T_ed3317c6_7990_11eb_84af_02420a39cb2flevel0_row1\" class=\"row_heading level0 row1\" >mean</th>\n",
       "                        <td id=\"T_ed3317c6_7990_11eb_84af_02420a39cb2frow1_col0\" class=\"data row1 col0\" >540.78</td>\n",
       "                        <td id=\"T_ed3317c6_7990_11eb_84af_02420a39cb2frow1_col1\" class=\"data row1 col1\" >49.36</td>\n",
       "                        <td id=\"T_ed3317c6_7990_11eb_84af_02420a39cb2frow1_col2\" class=\"data row1 col2\" >19488.70</td>\n",
       "            </tr>\n",
       "            <tr>\n",
       "                        <th id=\"T_ed3317c6_7990_11eb_84af_02420a39cb2flevel0_row2\" class=\"row_heading level0 row2\" >std</th>\n",
       "                        <td id=\"T_ed3317c6_7990_11eb_84af_02420a39cb2frow2_col0\" class=\"data row2 col0\" >325.74</td>\n",
       "                        <td id=\"T_ed3317c6_7990_11eb_84af_02420a39cb2frow2_col1\" class=\"data row2 col1\" >47.80</td>\n",
       "                        <td id=\"T_ed3317c6_7990_11eb_84af_02420a39cb2frow2_col2\" class=\"data row2 col2\" >10097.11</td>\n",
       "            </tr>\n",
       "            <tr>\n",
       "                        <th id=\"T_ed3317c6_7990_11eb_84af_02420a39cb2flevel0_row3\" class=\"row_heading level0 row3\" >min</th>\n",
       "                        <td id=\"T_ed3317c6_7990_11eb_84af_02420a39cb2frow3_col0\" class=\"data row3 col0\" >0.00</td>\n",
       "                        <td id=\"T_ed3317c6_7990_11eb_84af_02420a39cb2frow3_col1\" class=\"data row3 col1\" >0.00</td>\n",
       "                        <td id=\"T_ed3317c6_7990_11eb_84af_02420a39cb2frow3_col2\" class=\"data row3 col2\" >0.00</td>\n",
       "            </tr>\n",
       "            <tr>\n",
       "                        <th id=\"T_ed3317c6_7990_11eb_84af_02420a39cb2flevel0_row4\" class=\"row_heading level0 row4\" >25%</th>\n",
       "                        <td id=\"T_ed3317c6_7990_11eb_84af_02420a39cb2frow4_col0\" class=\"data row4 col0\" >292.00</td>\n",
       "                        <td id=\"T_ed3317c6_7990_11eb_84af_02420a39cb2frow4_col1\" class=\"data row4 col1\" >6.00</td>\n",
       "                        <td id=\"T_ed3317c6_7990_11eb_84af_02420a39cb2frow4_col2\" class=\"data row4 col2\" >11787.00</td>\n",
       "            </tr>\n",
       "            <tr>\n",
       "                        <th id=\"T_ed3317c6_7990_11eb_84af_02420a39cb2flevel0_row5\" class=\"row_heading level0 row5\" >50%</th>\n",
       "                        <td id=\"T_ed3317c6_7990_11eb_84af_02420a39cb2frow5_col0\" class=\"data row5 col0\" >532.00</td>\n",
       "                        <td id=\"T_ed3317c6_7990_11eb_84af_02420a39cb2frow5_col1\" class=\"data row5 col1\" >38.00</td>\n",
       "                        <td id=\"T_ed3317c6_7990_11eb_84af_02420a39cb2frow5_col2\" class=\"data row5 col2\" >19324.00</td>\n",
       "            </tr>\n",
       "            <tr>\n",
       "                        <th id=\"T_ed3317c6_7990_11eb_84af_02420a39cb2flevel0_row6\" class=\"row_heading level0 row6\" >75%</th>\n",
       "                        <td id=\"T_ed3317c6_7990_11eb_84af_02420a39cb2frow6_col0\" class=\"data row6 col0\" >773.00</td>\n",
       "                        <td id=\"T_ed3317c6_7990_11eb_84af_02420a39cb2frow6_col1\" class=\"data row6 col1\" >79.00</td>\n",
       "                        <td id=\"T_ed3317c6_7990_11eb_84af_02420a39cb2frow6_col2\" class=\"data row6 col2\" >26866.00</td>\n",
       "            </tr>\n",
       "            <tr>\n",
       "                        <th id=\"T_ed3317c6_7990_11eb_84af_02420a39cb2flevel0_row7\" class=\"row_heading level0 row7\" >max</th>\n",
       "                        <td id=\"T_ed3317c6_7990_11eb_84af_02420a39cb2frow7_col0\" class=\"data row7 col0\" >1727.00</td>\n",
       "                        <td id=\"T_ed3317c6_7990_11eb_84af_02420a39cb2frow7_col1\" class=\"data row7 col1\" >224.00</td>\n",
       "                        <td id=\"T_ed3317c6_7990_11eb_84af_02420a39cb2frow7_col2\" class=\"data row7 col2\" >49793.00</td>\n",
       "            </tr>\n",
       "    </tbody></table>"
      ],
      "text/plain": [
       "<pandas.io.formats.style.Styler at 0x7f07b1ec7250>"
      ]
     },
     "execution_count": 30,
     "metadata": {},
     "output_type": "execute_result"
    }
   ],
   "source": [
    "variance_ultra = np.var(df_ultra[['duration_of_calls','count_of_messages','mb_used','month_revenue']], ddof = 1)\n",
    "display(variance_ultra)\n",
    "df_ultra[['duration_of_calls','count_of_messages','mb_used']].describe().style.format('{:.2f}')"
   ]
  },
  {
   "cell_type": "markdown",
   "metadata": {},
   "source": [
    "Посчитала дисперсию для минут звонков,сообщений и интернет трафика полтьзователей тарифа 'Ультра'.\n",
    "\n",
    "С помощью Describe вычислила среднее и стандартное отклонение для минут звонков,сообщений и интернет трафика пользователей тарифа 'Ультра'."
   ]
  },
  {
   "cell_type": "code",
   "execution_count": 31,
   "metadata": {},
   "outputs": [
    {
     "data": {
      "text/plain": [
       "duration_of_calls    3.797477e+04\n",
       "count_of_messages    7.968130e+02\n",
       "mb_used              3.457199e+07\n",
       "month_revenue        6.904582e+05\n",
       "dtype: float64"
      ]
     },
     "metadata": {},
     "output_type": "display_data"
    },
    {
     "data": {
      "text/html": [
       "<style  type=\"text/css\" >\n",
       "</style><table id=\"T_ed399ce0_7990_11eb_84af_02420a39cb2f\" ><thead>    <tr>        <th class=\"blank level0\" ></th>        <th class=\"col_heading level0 col0\" >duration_of_calls</th>        <th class=\"col_heading level0 col1\" >count_of_messages</th>        <th class=\"col_heading level0 col2\" >mb_used</th>    </tr></thead><tbody>\n",
       "                <tr>\n",
       "                        <th id=\"T_ed399ce0_7990_11eb_84af_02420a39cb2flevel0_row0\" class=\"row_heading level0 row0\" >count</th>\n",
       "                        <td id=\"T_ed399ce0_7990_11eb_84af_02420a39cb2frow0_col0\" class=\"data row0 col0\" >2229.00</td>\n",
       "                        <td id=\"T_ed399ce0_7990_11eb_84af_02420a39cb2frow0_col1\" class=\"data row0 col1\" >2229.00</td>\n",
       "                        <td id=\"T_ed399ce0_7990_11eb_84af_02420a39cb2frow0_col2\" class=\"data row0 col2\" >2229.00</td>\n",
       "            </tr>\n",
       "            <tr>\n",
       "                        <th id=\"T_ed399ce0_7990_11eb_84af_02420a39cb2flevel0_row1\" class=\"row_heading level0 row1\" >mean</th>\n",
       "                        <td id=\"T_ed399ce0_7990_11eb_84af_02420a39cb2frow1_col0\" class=\"data row1 col0\" >429.45</td>\n",
       "                        <td id=\"T_ed399ce0_7990_11eb_84af_02420a39cb2frow1_col1\" class=\"data row1 col1\" >33.38</td>\n",
       "                        <td id=\"T_ed399ce0_7990_11eb_84af_02420a39cb2frow1_col2\" class=\"data row1 col2\" >16237.18</td>\n",
       "            </tr>\n",
       "            <tr>\n",
       "                        <th id=\"T_ed399ce0_7990_11eb_84af_02420a39cb2flevel0_row2\" class=\"row_heading level0 row2\" >std</th>\n",
       "                        <td id=\"T_ed399ce0_7990_11eb_84af_02420a39cb2frow2_col0\" class=\"data row2 col0\" >194.87</td>\n",
       "                        <td id=\"T_ed399ce0_7990_11eb_84af_02420a39cb2frow2_col1\" class=\"data row2 col1\" >28.23</td>\n",
       "                        <td id=\"T_ed399ce0_7990_11eb_84af_02420a39cb2frow2_col2\" class=\"data row2 col2\" >5879.80</td>\n",
       "            </tr>\n",
       "            <tr>\n",
       "                        <th id=\"T_ed399ce0_7990_11eb_84af_02420a39cb2flevel0_row3\" class=\"row_heading level0 row3\" >min</th>\n",
       "                        <td id=\"T_ed399ce0_7990_11eb_84af_02420a39cb2frow3_col0\" class=\"data row3 col0\" >0.00</td>\n",
       "                        <td id=\"T_ed399ce0_7990_11eb_84af_02420a39cb2frow3_col1\" class=\"data row3 col1\" >0.00</td>\n",
       "                        <td id=\"T_ed399ce0_7990_11eb_84af_02420a39cb2frow3_col2\" class=\"data row3 col2\" >0.00</td>\n",
       "            </tr>\n",
       "            <tr>\n",
       "                        <th id=\"T_ed399ce0_7990_11eb_84af_02420a39cb2flevel0_row4\" class=\"row_heading level0 row4\" >25%</th>\n",
       "                        <td id=\"T_ed399ce0_7990_11eb_84af_02420a39cb2frow4_col0\" class=\"data row4 col0\" >291.00</td>\n",
       "                        <td id=\"T_ed399ce0_7990_11eb_84af_02420a39cb2frow4_col1\" class=\"data row4 col1\" >10.00</td>\n",
       "                        <td id=\"T_ed399ce0_7990_11eb_84af_02420a39cb2frow4_col2\" class=\"data row4 col2\" >12662.00</td>\n",
       "            </tr>\n",
       "            <tr>\n",
       "                        <th id=\"T_ed399ce0_7990_11eb_84af_02420a39cb2flevel0_row5\" class=\"row_heading level0 row5\" >50%</th>\n",
       "                        <td id=\"T_ed399ce0_7990_11eb_84af_02420a39cb2frow5_col0\" class=\"data row5 col0\" >435.00</td>\n",
       "                        <td id=\"T_ed399ce0_7990_11eb_84af_02420a39cb2frow5_col1\" class=\"data row5 col1\" >28.00</td>\n",
       "                        <td id=\"T_ed399ce0_7990_11eb_84af_02420a39cb2frow5_col2\" class=\"data row5 col2\" >16540.00</td>\n",
       "            </tr>\n",
       "            <tr>\n",
       "                        <th id=\"T_ed399ce0_7990_11eb_84af_02420a39cb2flevel0_row6\" class=\"row_heading level0 row6\" >75%</th>\n",
       "                        <td id=\"T_ed399ce0_7990_11eb_84af_02420a39cb2frow6_col0\" class=\"data row6 col0\" >560.00</td>\n",
       "                        <td id=\"T_ed399ce0_7990_11eb_84af_02420a39cb2frow6_col1\" class=\"data row6 col1\" >51.00</td>\n",
       "                        <td id=\"T_ed399ce0_7990_11eb_84af_02420a39cb2frow6_col2\" class=\"data row6 col2\" >20078.00</td>\n",
       "            </tr>\n",
       "            <tr>\n",
       "                        <th id=\"T_ed399ce0_7990_11eb_84af_02420a39cb2flevel0_row7\" class=\"row_heading level0 row7\" >max</th>\n",
       "                        <td id=\"T_ed399ce0_7990_11eb_84af_02420a39cb2frow7_col0\" class=\"data row7 col0\" >1471.00</td>\n",
       "                        <td id=\"T_ed399ce0_7990_11eb_84af_02420a39cb2frow7_col1\" class=\"data row7 col1\" >143.00</td>\n",
       "                        <td id=\"T_ed399ce0_7990_11eb_84af_02420a39cb2frow7_col2\" class=\"data row7 col2\" >38627.00</td>\n",
       "            </tr>\n",
       "    </tbody></table>"
      ],
      "text/plain": [
       "<pandas.io.formats.style.Styler at 0x7f07b33c3e50>"
      ]
     },
     "execution_count": 31,
     "metadata": {},
     "output_type": "execute_result"
    }
   ],
   "source": [
    "variance_smart = np.var(df_smart[['duration_of_calls','count_of_messages','mb_used','month_revenue']], ddof = 1)\n",
    "display(variance_smart)\n",
    "df_smart[['duration_of_calls','count_of_messages','mb_used']].describe().style.format('{:.2f}')"
   ]
  },
  {
   "cell_type": "markdown",
   "metadata": {},
   "source": [
    "Посчитала дисперсию для минут звонков,сообщений и интернет трафика полтьзователей тарифа 'Смарт'.\n",
    "\n",
    "С помощью Describe вычислила среднее и стандартное отклонение для минут звонков,сообщений и интернет трафика пользователей тарифа 'Смарт'."
   ]
  },
  {
   "cell_type": "code",
   "execution_count": 32,
   "metadata": {},
   "outputs": [
    {
     "data": {
      "image/png": "[encoded data removed]",
      "text/plain": [
       "<Figure size 432x288 with 1 Axes>"
      ]
     },
     "metadata": {
      "needs_background": "light"
     },
     "output_type": "display_data"
    }
   ],
   "source": [
    "import matplotlib.pyplot as plt\n",
    "import seaborn as sns\n",
    "tariff = ['ultra','smart']\n",
    "palette = {'ultra':'red','smart':'blue'}\n",
    "for tariff in tariff:\n",
    "    new_df = df.query('tariff == @tariff')\n",
    "    sns.distplot(new_df['month_revenue'],label=tariff,color=palette[tariff])\n",
    "legend=plt.legend()    "
   ]
  },
  {
   "cell_type": "markdown",
   "metadata": {},
   "source": [
    "<font color='purple'>График выручки компании с разбиением по тарифам.Из графика видно,что тариф 'Ультра' приносит больше денег чем тариф 'Смарт'.</font>"
   ]
  },
  {
   "cell_type": "markdown",
   "metadata": {},
   "source": [
    "<div class=\"alert alert-success\">\n",
    "<font size=\"5\"><b>Комментарий ревьюера</b></font>\n",
    "\n",
    "Базовые статистические параметры получены. Приведены все необходимые графики. Здорово, что графики для одинаковых услуг тарифов приведены на одном рисунке. Так удобнее сравнивать тарифы. Также можно привести график по выручке компании с разбиением по тарифу. \n",
    "\n",
    "</div>"
   ]
  },
  {
   "cell_type": "markdown",
   "metadata": {},
   "source": [
    "### Проверьте гипотезы\n"
   ]
  },
  {
   "cell_type": "markdown",
   "metadata": {},
   "source": [
    "**Нулевая гипотеза:** Cредняя выручка пользователей тарифов 'Ультра' и 'Смарт' не различается\n",
    "\n",
    "**Альтернативная гипотеза:** Средняя выручка пользователей тарифов 'Ультра' и 'Смарт' различается"
   ]
  },
  {
   "cell_type": "code",
   "execution_count": 33,
   "metadata": {},
   "outputs": [
    {
     "data": {
      "text/plain": [
       "690148.4005880315"
      ]
     },
     "metadata": {},
     "output_type": "display_data"
    },
    {
     "data": {
      "text/plain": [
       "143345.5641732588"
      ]
     },
     "metadata": {},
     "output_type": "display_data"
    },
    {
     "name": "stdout",
     "output_type": "stream",
     "text": [
      "p-значение: 1.2496710269965528e-233\n",
      "Отвергаем нулевую гипотезу\n"
     ]
    }
   ],
   "source": [
    "display(np.var(df_smart['month_revenue']))\n",
    "display(np.var(df_ultra['month_revenue']))\n",
    "\n",
    "alpha = 0.05\n",
    "\n",
    "results = st.ttest_ind(\n",
    "    df_smart['month_revenue'], \n",
    "    df_ultra['month_revenue'],equal_var = False)\n",
    "\n",
    "print('p-значение:', results.pvalue)\n",
    "\n",
    "if (results.pvalue < alpha):\n",
    "    print(\"Отвергаем нулевую гипотезу\")\n",
    "else:\n",
    "    print(\"Не получилось отвергнуть нулевую гипотезу\")   \n",
    "    "
   ]
  },
  {
   "cell_type": "markdown",
   "metadata": {},
   "source": [
    "<font color='purple'>Поскольку дисперсия общей выручки по тарифу 'Смарт' больше дисперсии общей выручки по  тарифу 'Ультра',то при проведении проверки гипотезы через T-критерий Стьюдента укажем параметр equal_var = False.\n",
    "</font>"
   ]
  },
  {
   "cell_type": "markdown",
   "metadata": {},
   "source": [
    "Средняя выручка пользователей тарифов «Ультра» и «Смарт» различаются."
   ]
  },
  {
   "cell_type": "markdown",
   "metadata": {},
   "source": [
    "**Нулевая гипотеза:** Cредняя выручка пользователей из Москвы не отличается от выручки пользователей из других регионов\n",
    "\n",
    "**Альтернативная гипотеза:** Cредняя выручка пользователей из Москвы отличается от выручки пользователей из других регионов"
   ]
  },
  {
   "cell_type": "code",
   "execution_count": 34,
   "metadata": {},
   "outputs": [],
   "source": [
    "df_moscow = df.query('city == \"Москва\"')                   \n",
    "df_other_cities = df.query('city != \"Москва\"')"
   ]
  },
  {
   "cell_type": "code",
   "execution_count": 35,
   "metadata": {},
   "outputs": [
    {
     "data": {
      "text/plain": [
       "567332.0773309007"
      ]
     },
     "metadata": {},
     "output_type": "display_data"
    },
    {
     "data": {
      "text/plain": [
       "663465.6530958336"
      ]
     },
     "execution_count": 35,
     "metadata": {},
     "output_type": "execute_result"
    }
   ],
   "source": [
    "variance_moscow = np.var(df_moscow['month_revenue'], ddof = 1)\n",
    "display(variance_moscow)\n",
    "\n",
    "variance_other_cities = np.var(df_other_cities['month_revenue'], ddof = 1)\n",
    "variance_other_cities"
   ]
  },
  {
   "cell_type": "code",
   "execution_count": 36,
   "metadata": {},
   "outputs": [
    {
     "name": "stdout",
     "output_type": "stream",
     "text": [
      "p-значение: 0.560259602740345\n",
      "Не получилось отвергнуть нулевую гипотезу\n"
     ]
    }
   ],
   "source": [
    "alpha = 0.05\n",
    "results = st.ttest_ind(\n",
    "    df_moscow['month_revenue'],\n",
    "    df_other_cities['month_revenue'], equal_var = False)\n",
    "\n",
    "print('p-значение:', results.pvalue)\n",
    "\n",
    "if (results.pvalue < alpha):\n",
    "    print(\"Отвергаем нулевую гипотезу\")\n",
    "else:\n",
    "    print(\"Не получилось отвергнуть нулевую гипотезу\")"
   ]
  },
  {
   "cell_type": "markdown",
   "metadata": {},
   "source": [
    "<font color='purple'>Поскольку дисперсия общей выручки для Москвы меньше дисперсии общей выручки для остальных регионов,то при проведении проверки гипотезы через T-критерий Стьюдента укажем параметр equal_var = False.\n",
    "</font>"
   ]
  },
  {
   "cell_type": "markdown",
   "metadata": {},
   "source": [
    "Cредняя выручка пользователей из Москвы не отличается от выручки пользователей из других регионов."
   ]
  },
  {
   "cell_type": "markdown",
   "metadata": {},
   "source": [
    "### Вывод"
   ]
  },
  {
   "cell_type": "markdown",
   "metadata": {},
   "source": [
    "Cредняя выручка пользователей из Москвы не отличается от выручки пользователей из других регионов.\n",
    "\n",
    "Средняя выручка пользователей тарифов «Ультра» и «Смарт» различаются. \n",
    "\n",
    "Тариф 'Ультра' приносит больше денег. Пользователи тарифа 'Смарт' приносят денег меньше, даже при том, что очень много тратят на услуги сверх тарифного плана. Можно предложить пользователям тарифа 'Смарт' тариф с более расширенным пакетом услуг, по большей цене. Но не такой дорогой,как 'Ультра' и с не настолько расширенным пакетом услуг."
   ]
  }
 ],
 "metadata": {
  "kernelspec": {
   "display_name": "Python 3",
   "language": "python",
   "name": "python3"
  },
  "language_info": {
   "codemirror_mode": {
    "name": "ipython",
    "version": 3
   },
   "file_extension": ".py",
   "mimetype": "text/x-python",
   "name": "python",
   "nbconvert_exporter": "python",
   "pygments_lexer": "ipython3",
   "version": "3.8.5"
  },
  "toc": {
   "base_numbering": 1,
   "nav_menu": {},
   "number_sections": true,
   "sideBar": true,
   "skip_h1_title": true,
   "title_cell": "Table of Contents",
   "title_sidebar": "Contents",
   "toc_cell": false,
   "toc_position": {},
   "toc_section_display": true,
   "toc_window_display": false
  }
 },
 "nbformat": 4,
 "nbformat_minor": 2
}
